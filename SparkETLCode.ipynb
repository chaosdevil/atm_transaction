{
 "cells": [
  {
   "cell_type": "code",
   "execution_count": 1,
   "metadata": {
    "colab": {
     "base_uri": "https://localhost:8080/"
    },
    "id": "WBI0Ss2-2eHj",
    "outputId": "8cb88160-aaee-44d9-c5b4-a8fe749b5da5"
   },
   "outputs": [],
   "source": [
    "import os\n",
    "import sys \n",
    "\n",
    "os.environ[\"PYSPARK_PYTHON\"] = \"/opt/cloudera/parcels/Anaconda/bin/python\"\n",
    "os.environ[\"JAVA_HOME\"] = \"/usr/java/jdk1.8.0_232-cloudera/jre\"\n",
    "os.environ[\"SPARK_HOME\"] = \"/opt/cloudera/parcels/SPARK2-2.3.0.cloudera2-1.cdh5.13.3.p0.316101/lib/spark2/\"\n",
    "os.environ[\"PYLIB\"] = os.environ[\"SPARK_HOME\"] +\"/python/lib\"\n",
    "sys.path.insert(0, os.environ[\"PYLIB\"] +\"/py4j-0.10.6-src.zip\")\n",
    "sys.path.insert(0, os.environ[\"PYLIB\"] +\"/pyspark.zip\")"
   ]
  },
  {
   "cell_type": "code",
   "execution_count": 2,
   "metadata": {
    "id": "Sf5OGccwjOUB"
   },
   "outputs": [],
   "source": [
    "from pyspark import SparkContext, SparkConf\n",
    "from pyspark.sql import SparkSession"
   ]
  },
  {
   "cell_type": "code",
   "execution_count": 3,
   "metadata": {
    "colab": {
     "base_uri": "https://localhost:8080/",
     "height": 219
    },
    "id": "IWDwRscQ3Yw_",
    "outputId": "c80837e7-544f-49be-bc20-4535748e32ff"
   },
   "outputs": [
    {
     "data": {
      "text/html": [
       "\n",
       "            <div>\n",
       "                <p><b>SparkSession - hive</b></p>\n",
       "                \n",
       "        <div>\n",
       "            <p><b>SparkContext</b></p>\n",
       "\n",
       "            <p><a href=\"http://ip-10-0-0-41.ec2.internal:4040\">Spark UI</a></p>\n",
       "\n",
       "            <dl>\n",
       "              <dt>Version</dt>\n",
       "                <dd><code>v2.3.0.cloudera2</code></dd>\n",
       "              <dt>Master</dt>\n",
       "                <dd><code>local</code></dd>\n",
       "              <dt>AppName</dt>\n",
       "                <dd><code>atm_trans</code></dd>\n",
       "            </dl>\n",
       "        </div>\n",
       "        \n",
       "            </div>\n",
       "        "
      ],
      "text/plain": [
       "<pyspark.sql.session.SparkSession at 0x7fd374ab4790>"
      ]
     },
     "execution_count": 3,
     "metadata": {},
     "output_type": "execute_result"
    }
   ],
   "source": [
    "# conf = SparkConf().setAppName('atm_trans').setMaster('local')\n",
    "# sc = SparkContext(conf=conf)\n",
    "spark = SparkSession.builder.appName('atm_trans').master('local').getOrCreate()\n",
    "spark"
   ]
  },
  {
   "cell_type": "markdown",
   "metadata": {
    "id": "-q0Ac4Yfc3AB"
   },
   "source": [
    "# Loading Data"
   ]
  },
  {
   "cell_type": "code",
   "execution_count": 4,
   "metadata": {
    "id": "visLPucjj4KN"
   },
   "outputs": [],
   "source": [
    "from pyspark.sql.functions import *\n",
    "from pyspark.sql.types import *\n",
    "from pyspark.sql import Window"
   ]
  },
  {
   "cell_type": "code",
   "execution_count": 5,
   "metadata": {
    "id": "YB_7B3KfWlLU"
   },
   "outputs": [],
   "source": [
    "table_schema = StructType(\n",
    "    [\n",
    "      StructField(\"year\", IntegerType(), True),\n",
    "      StructField(\"month\", StringType(), True),\n",
    "      StructField(\"day\", IntegerType(), True),\n",
    "      StructField(\"weekday\", StringType(), True),\n",
    "      StructField(\"hour\", IntegerType(), True),\n",
    "      StructField(\"atm_status\", StringType(), True),\n",
    "      StructField(\"atm_id\", IntegerType(), True),\n",
    "      StructField(\"atm_manufacturer\", StringType(), True),\n",
    "      StructField(\"atm_location\", StringType(), True),\n",
    "      StructField(\"atm_streetname\", StringType(), True),\n",
    "      StructField(\"atm_street_number\", IntegerType(), True),\n",
    "      StructField(\"atm_zipcode\", IntegerType(), True),\n",
    "      StructField(\"atm_lat\",FloatType(), True),\n",
    "      StructField(\"atm_lon\", FloatType(), True),\n",
    "      StructField(\"currency\", StringType(), True),\n",
    "      StructField(\"card_type\", StringType(), True),\n",
    "      StructField(\"transaction_amount\", IntegerType(), True),\n",
    "      StructField(\"service\", StringType(), True),\n",
    "      StructField(\"message_code\", StringType(), True),\n",
    "      StructField(\"message_text\", StringType(), True),\n",
    "      StructField(\"weather_lat\", FloatType(), True),\n",
    "      StructField(\"weather_lon\", FloatType(), True),\n",
    "      StructField(\"weather_city_id\", StringType(), True),\n",
    "      StructField(\"weather_city_name\", StringType(), True),\n",
    "      StructField(\"temp\", FloatType(), True),\n",
    "      StructField(\"pressure\", IntegerType(), True),\n",
    "      StructField(\"humidity\", IntegerType(), True),\n",
    "      StructField(\"wind_speed\", IntegerType(), True),\n",
    "      StructField(\"wind_deg\", IntegerType(), True),\n",
    "      StructField(\"rain_3h\", FloatType(), True),\n",
    "      StructField(\"clouds_all\", IntegerType(), True),\n",
    "      StructField(\"weather_id\", IntegerType(), True),\n",
    "      StructField(\"weather_main\", StringType(), True),\n",
    "      StructField(\"weather_description\", StringType(), True),\n",
    "     ]\n",
    " )"
   ]
  },
  {
   "cell_type": "code",
   "execution_count": 6,
   "metadata": {
    "id": "kIMs7fIMc6ds"
   },
   "outputs": [],
   "source": [
    "polished_df = spark.read.csv('hdfs:///user/root/atm_trans', schema=table_schema)"
   ]
  },
  {
   "cell_type": "code",
   "execution_count": 7,
   "metadata": {
    "colab": {
     "base_uri": "https://localhost:8080/"
    },
    "id": "xfX-GX4uprvz",
    "outputId": "52715071-8eaa-4cc3-c054-7c86c481d08b"
   },
   "outputs": [
    {
     "name": "stdout",
     "output_type": "stream",
     "text": [
      "+----+-------+---+-------+----+----------+------+----------------+--------------------+-----------------+-----------------+-----------+-------+-------+--------+--------------------+------------------+----------+------------+--------------------+-----------+-----------+---------------+-----------------+----+--------+--------+----------+--------+-------+----------+----------+------------+-------------------+\n",
      "|year|  month|day|weekday|hour|atm_status|atm_id|atm_manufacturer|        atm_location|   atm_streetname|atm_street_number|atm_zipcode|atm_lat|atm_lon|currency|           card_type|transaction_amount|   service|message_code|        message_text|weather_lat|weather_lon|weather_city_id|weather_city_name|temp|pressure|humidity|wind_speed|wind_deg|rain_3h|clouds_all|weather_id|weather_main|weather_description|\n",
      "+----+-------+---+-------+----+----------+------+----------------+--------------------+-----------------+-----------------+-----------+-------+-------+--------+--------------------+------------------+----------+------------+--------------------+-----------+-----------+---------------+-----------------+----+--------+--------+----------+--------+-------+----------+----------+------------+-------------------+\n",
      "|2017|January|  1| Sunday|   9|    Active|    41| Diebold Nixdorf|              Skagen|Sct. Laurentiivej|               36|       9990| 57.723|  10.59|     DKK|  Mastercard - on-us|              1581|Withdrawal|        4014|Suspected malfunc...|       null|       null|           null|             null|null|    null|    null|      null|    null|   null|      null|      null|        null|               null|\n",
      "|2017|January|  1| Sunday|  12|    Active|    41| Diebold Nixdorf|              Skagen|Sct. Laurentiivej|               36|       9990| 57.723|  10.59|     DKK|Visa Dankort - on-us|              6719|Withdrawal|        4014|Suspected malfunc...|       null|       null|           null|             null|null|    null|    null|      null|    null|   null|      null|      null|        null|               null|\n",
      "|2017|January|  1| Sunday|  15|    Active|    41| Diebold Nixdorf|              Skagen|Sct. Laurentiivej|               36|       9990| 57.723|  10.59|     DKK|Visa Dankort - on-us|              1372|Withdrawal|        4014|Suspected malfunc...|       null|       null|           null|             null|null|    null|    null|      null|    null|   null|      null|      null|        null|               null|\n",
      "|2017|January|  1| Sunday|  15|    Active|    41| Diebold Nixdorf|              Skagen|Sct. Laurentiivej|               36|       9990| 57.723|  10.59|     DKK|Visa Dankort - on-us|              3286|Withdrawal|        4014|Suspected malfunc...|       null|       null|           null|             null|null|    null|    null|      null|    null|   null|      null|      null|        null|               null|\n",
      "|2017|January|  1| Sunday|  17|    Active|    35|             NCR|             Aabybro|     ÃƒËœstergade|                6|       9440| 57.162|   9.73|     DKK|          MasterCard|              7387|Withdrawal|        4017|Suspected malfunc...|       null|       null|           null|             null|null|    null|    null|      null|    null|   null|      null|      null|        null|               null|\n",
      "|2017|January|  1| Sunday|  18|    Active|    55|             NCR|               Arden|       Vestergade|                6|       9510| 56.769|  9.859|     DKK|          MasterCard|              1117|Withdrawal|        4017|Suspected malfunc...|       null|       null|           null|             null|null|    null|    null|      null|    null|   null|      null|      null|        null|               null|\n",
      "|2017|January|  1| Sunday|  20|    Active|    85| Diebold Nixdorf|        KÃƒÂ¸benhavn|   Regnbuepladsen|                5|       1550| 55.676| 12.571|     DKK|        Visa Dankort|              8551|Withdrawal|        4017|Suspected malfunc...|       null|       null|           null|             null|null|    null|    null|      null|    null|   null|      null|      null|        null|               null|\n",
      "|2017|January|  1| Sunday|  21|    Active|    85| Diebold Nixdorf|        KÃƒÂ¸benhavn|   Regnbuepladsen|                5|       1550| 55.676| 12.571|     DKK|          MasterCard|              4531|Withdrawal|        4017|Suspected malfunc...|       null|       null|           null|             null|null|    null|    null|      null|    null|   null|      null|      null|        null|               null|\n",
      "|2017|January|  1| Sunday|  21|    Active|    85| Diebold Nixdorf|        KÃƒÂ¸benhavn|   Regnbuepladsen|                5|       1550| 55.676| 12.571|     DKK|                VISA|              9003|Withdrawal|        4017|Suspected malfunc...|       null|       null|           null|             null|null|    null|    null|      null|    null|   null|      null|      null|        null|               null|\n",
      "|2017|January|  1| Sunday|  21|    Active|    51|             NCR|             Gistrup|       Hadsundvej|              346|       9260| 56.997|  9.993|     DKK|        Visa Dankort|              6002|Withdrawal|        4014|Suspected malfunc...|       null|       null|           null|             null|null|    null|    null|      null|    null|   null|      null|      null|        null|               null|\n",
      "|2017|January|  1| Sunday|  22|    Active|    47|             NCR|       Frederiksberg|  Gammel Kongevej|              157|       1850| 55.677| 12.537|     DKK|          MasterCard|              9493|Withdrawal|        4014|Suspected malfunc...|       null|       null|           null|             null|null|    null|    null|      null|    null|   null|      null|      null|        null|               null|\n",
      "|2017|January|  2| Monday|   6|    Active|    45|             NCR|          Abildgaard|   HjÃƒÂ¸rringvej|              144|       9900| 57.447| 10.506|     DKK|          MasterCard|              1241|Withdrawal|        4017|Suspected malfunc...|       null|       null|           null|             null|null|    null|    null|      null|    null|   null|      null|      null|        null|               null|\n",
      "|2017|January|  2| Monday|   9|    Active|    79|             NCR|          Middelfart|          Brogade|                9|       5500| 55.507|  9.727|     DKK|          MasterCard|              1823|Withdrawal|        4017|Suspected malfunc...|       null|       null|           null|             null|null|    null|    null|      null|    null|   null|      null|      null|        null|               null|\n",
      "|2017|January|  2| Monday|   9|    Active|    80|             NCR|Menu KÃƒÂ¸bmand K...|        Klarupvej|               52|       9270| 57.013| 10.046|     DKK|Visa Dankort - on-us|              7562|Withdrawal|        4017|Suspected malfunc...|       null|       null|           null|             null|null|    null|    null|      null|    null|   null|      null|      null|        null|               null|\n",
      "|2017|January|  2| Monday|  10|    Active|    85| Diebold Nixdorf|        KÃƒÂ¸benhavn|   Regnbuepladsen|                5|       1550| 55.676| 12.571|     DKK|                VISA|               959|Withdrawal|        4017|Suspected malfunc...|       null|       null|           null|             null|null|    null|    null|      null|    null|   null|      null|      null|        null|               null|\n",
      "|2017|January|  2| Monday|  10|    Active|    83|             NCR|                 Fur|       StenÃƒÂ¸re|               19|       7884| 56.805|   9.02|     DKK|     Dankort - on-us|               463|Withdrawal|        4017|Suspected malfunc...|       null|       null|           null|             null|null|    null|    null|      null|    null|   null|      null|      null|        null|               null|\n",
      "|2017|January|  2| Monday|  10|    Active|    80|             NCR|Menu KÃƒÂ¸bmand K...|        Klarupvej|               52|       9270| 57.013| 10.046|     DKK|     Dankort - on-us|              6762|Withdrawal|        4017|Suspected malfunc...|       null|       null|           null|             null|null|    null|    null|      null|    null|   null|      null|      null|        null|               null|\n",
      "|2017|January|  2| Monday|  10|    Active|    80|             NCR|Menu KÃƒÂ¸bmand K...|        Klarupvej|               52|       9270| 57.013| 10.046|     DKK|Visa Dankort - on-us|              4454|Withdrawal|        4017|Suspected malfunc...|       null|       null|           null|             null|null|    null|    null|      null|    null|   null|      null|      null|        null|               null|\n",
      "|2017|January|  2| Monday|  10|    Active|    85| Diebold Nixdorf|        KÃƒÂ¸benhavn|   Regnbuepladsen|                5|       1550| 55.676| 12.571|     DKK|                VISA|              8396|Withdrawal|        4017|Suspected malfunc...|       null|       null|           null|             null|null|    null|    null|      null|    null|   null|      null|      null|        null|               null|\n",
      "|2017|January|  2| Monday|  11|    Active|    23| Diebold Nixdorf|             Vodskov|       Vodskovvej|               27|       9310| 57.104| 10.027|     DKK|          MasterCard|              7474|Withdrawal|        4017|Suspected malfunc...|       null|       null|           null|             null|null|    null|    null|      null|    null|   null|      null|      null|        null|               null|\n",
      "+----+-------+---+-------+----+----------+------+----------------+--------------------+-----------------+-----------------+-----------+-------+-------+--------+--------------------+------------------+----------+------------+--------------------+-----------+-----------+---------------+-----------------+----+--------+--------+----------+--------+-------+----------+----------+------------+-------------------+\n",
      "only showing top 20 rows\n",
      "\n"
     ]
    }
   ],
   "source": [
    "polished_df.where('weather_lon is null').show()"
   ]
  },
  {
   "cell_type": "code",
   "execution_count": 8,
   "metadata": {
    "colab": {
     "base_uri": "https://localhost:8080/"
    },
    "id": "WAIY-oR7dTHv",
    "outputId": "6abf67e0-f5f8-4d26-ae01-466c60a77b4a"
   },
   "outputs": [
    {
     "name": "stdout",
     "output_type": "stream",
     "text": [
      "+----+-------+---+-------+----+----------+------+----------------+------------+-------------------+-----------------+-----------+-------+-------+--------+------------------+------------------+----------+------------+------------+-----------+-----------+---------------+-----------------+------+--------+--------+----------+--------+-------+----------+----------+------------+--------------------+\n",
      "|year|  month|day|weekday|hour|atm_status|atm_id|atm_manufacturer|atm_location|     atm_streetname|atm_street_number|atm_zipcode|atm_lat|atm_lon|currency|         card_type|transaction_amount|   service|message_code|message_text|weather_lat|weather_lon|weather_city_id|weather_city_name|  temp|pressure|humidity|wind_speed|wind_deg|rain_3h|clouds_all|weather_id|weather_main| weather_description|\n",
      "+----+-------+---+-------+----+----------+------+----------------+------------+-------------------+-----------------+-----------+-------+-------+--------+------------------+------------------+----------+------------+------------+-----------+-----------+---------------+-----------------+------+--------+--------+----------+--------+-------+----------+----------+------------+--------------------+\n",
      "|2017|January|  1| Sunday|   0|    Active|     1|             NCR|  NÃƒÂ¦stved|        Farimagsvej|                8|       4700| 55.233| 11.763|     DKK|        MasterCard|              5643|Withdrawal|        null|        null|      55.23|     11.761|        2616038|         Naestved|281.15|    1014|      87|         7|     260|  0.215|        92|       500|        Rain|          light rain|\n",
      "|2017|January|  1| Sunday|   0|  Inactive|     2|             NCR|    Vejgaard|         Hadsundvej|               20|       9000| 57.043|   9.95|     DKK|        MasterCard|              1764|Withdrawal|        null|        null|     57.048|      9.935|        2616235|   NÃƒÂ¸rresundby|280.64|    1020|      93|         9|     250|   0.59|        92|       500|        Rain|          light rain|\n",
      "|2017|January|  1| Sunday|   0|  Inactive|     2|             NCR|    Vejgaard|         Hadsundvej|               20|       9000| 57.043|   9.95|     DKK|              VISA|              1891|Withdrawal|        null|        null|     57.048|      9.935|        2616235|   NÃƒÂ¸rresundby|280.64|    1020|      93|         9|     250|   0.59|        92|       500|        Rain|          light rain|\n",
      "|2017|January|  1| Sunday|   0|  Inactive|     3|             NCR|       Ikast|RÃƒÂ¥dhusstrÃƒÂ¦det|               12|       7430| 56.139|  9.154|     DKK|              VISA|              4166|Withdrawal|        null|        null|     56.139|      9.158|        2619426|            Ikast|281.15|    1011|     100|         6|     240|    0.0|        75|       300|     Drizzle|light intensity d...|\n",
      "|2017|January|  1| Sunday|   0|    Active|     4|             NCR|  Svogerslev|       BrÃƒÂ¸nsager|                1|       4000| 55.634| 12.018|     DKK|        MasterCard|              5153|Withdrawal|        null|        null|     55.642|      12.08|        2614481|         Roskilde|280.61|    1014|      87|         7|     260|    0.0|        88|       701|        Mist|                mist|\n",
      "|2017|January|  1| Sunday|   0|    Active|     5|             NCR|        Nibe|             Torvet|                1|       9240| 56.983|  9.639|     DKK|        MasterCard|              3269|Withdrawal|        null|        null|     56.981|      9.639|        2616483|             Nibe|280.64|    1020|      93|         9|     250|   0.59|        92|       500|        Rain|          light rain|\n",
      "|2017|January|  1| Sunday|   0|    Active|     6|             NCR|  Fredericia|   SjÃƒÂ¦llandsgade|               33|       7000| 55.564|  9.757|     DKK|        MasterCard|               887|Withdrawal|        null|        null|     55.566|      9.753|        2621951|       Fredericia|281.15|    1014|      93|         7|     230|   0.29|        92|       500|        Rain|          light rain|\n",
      "|2017|January|  1| Sunday|   0|    Active|     7| Diebold Nixdorf|   Hjallerup|  Hjallerup Centret|               18|       9320| 57.168| 10.148|     DKK|Mastercard - on-us|              4626|Withdrawal|        null|        null|     57.165|     10.146|        2620275|        Hjallerup|280.64|    1020|      93|         9|     250|   0.59|        92|       500|        Rain|          light rain|\n",
      "|2017|January|  1| Sunday|   0|    Active|     8|             NCR| GlyngÃƒÂ¸re|        FÃƒÂ¦rgevej|                1|       7870| 56.762|  8.867|     DKK|        MasterCard|               470|Withdrawal|        null|        null|     56.793|      8.853|        2615964|    Nykobing Mors|281.15|    1011|     100|         6|     240|    0.0|        75|       300|     Drizzle|light intensity d...|\n",
      "|2017|January|  1| Sunday|   0|    Active|     9| Diebold Nixdorf|     Hadsund|          Storegade|               12|       9560| 56.716| 10.114|     DKK|              VISA|              8473|Withdrawal|        null|        null|     56.715|     10.117|        2620952|          Hadsund|280.64|    1020|      93|         9|     250|   0.59|        92|       500|        Rain|          light rain|\n",
      "+----+-------+---+-------+----+----------+------+----------------+------------+-------------------+-----------------+-----------+-------+-------+--------+------------------+------------------+----------+------------+------------+-----------+-----------+---------------+-----------------+------+--------+--------+----------+--------+-------+----------+----------+------------+--------------------+\n",
      "only showing top 10 rows\n",
      "\n"
     ]
    }
   ],
   "source": [
    "polished_df.show(10)"
   ]
  },
  {
   "cell_type": "code",
   "execution_count": 9,
   "metadata": {
    "colab": {
     "base_uri": "https://localhost:8080/"
    },
    "id": "P_hx6kPLmg6R",
    "outputId": "c58bddf5-5def-4031-b96e-432d43f122c8"
   },
   "outputs": [
    {
     "name": "stdout",
     "output_type": "stream",
     "text": [
      "root\n",
      " |-- year: integer (nullable = true)\n",
      " |-- month: string (nullable = true)\n",
      " |-- day: integer (nullable = true)\n",
      " |-- weekday: string (nullable = true)\n",
      " |-- hour: integer (nullable = true)\n",
      " |-- atm_status: string (nullable = true)\n",
      " |-- atm_id: integer (nullable = true)\n",
      " |-- atm_manufacturer: string (nullable = true)\n",
      " |-- atm_location: string (nullable = true)\n",
      " |-- atm_streetname: string (nullable = true)\n",
      " |-- atm_street_number: integer (nullable = true)\n",
      " |-- atm_zipcode: integer (nullable = true)\n",
      " |-- atm_lat: float (nullable = true)\n",
      " |-- atm_lon: float (nullable = true)\n",
      " |-- currency: string (nullable = true)\n",
      " |-- card_type: string (nullable = true)\n",
      " |-- transaction_amount: integer (nullable = true)\n",
      " |-- service: string (nullable = true)\n",
      " |-- message_code: string (nullable = true)\n",
      " |-- message_text: string (nullable = true)\n",
      " |-- weather_lat: float (nullable = true)\n",
      " |-- weather_lon: float (nullable = true)\n",
      " |-- weather_city_id: string (nullable = true)\n",
      " |-- weather_city_name: string (nullable = true)\n",
      " |-- temp: float (nullable = true)\n",
      " |-- pressure: integer (nullable = true)\n",
      " |-- humidity: integer (nullable = true)\n",
      " |-- wind_speed: integer (nullable = true)\n",
      " |-- wind_deg: integer (nullable = true)\n",
      " |-- rain_3h: float (nullable = true)\n",
      " |-- clouds_all: integer (nullable = true)\n",
      " |-- weather_id: integer (nullable = true)\n",
      " |-- weather_main: string (nullable = true)\n",
      " |-- weather_description: string (nullable = true)\n",
      "\n"
     ]
    }
   ],
   "source": [
    "polished_df.printSchema()"
   ]
  },
  {
   "cell_type": "code",
   "execution_count": 10,
   "metadata": {
    "colab": {
     "base_uri": "https://localhost:8080/"
    },
    "id": "SODp8RxVYElo",
    "outputId": "ba9e441c-3846-4e95-a811-4f2e4d89e6d6"
   },
   "outputs": [
    {
     "data": {
      "text/plain": [
       "DataFrame[year: int, month: string, day: int, weekday: string, hour: int, atm_status: string, atm_id: int, atm_manufacturer: string, atm_location: string, atm_streetname: string, atm_street_number: int, atm_zipcode: int, atm_lat: float, atm_lon: float, currency: string, card_type: string, transaction_amount: int, service: string, message_code: string, message_text: string, weather_lat: float, weather_lon: float, weather_city_id: string, weather_city_name: string, temp: float, pressure: int, humidity: int, wind_speed: int, wind_deg: int, rain_3h: float, clouds_all: int, weather_id: int, weather_main: string, weather_description: string]"
      ]
     },
     "execution_count": 10,
     "metadata": {},
     "output_type": "execute_result"
    }
   ],
   "source": [
    "polished_df.cache()"
   ]
  },
  {
   "cell_type": "markdown",
   "metadata": {
    "id": "RISgeA8xFvvD"
   },
   "source": [
    "# Create dimension schema"
   ]
  },
  {
   "cell_type": "code",
   "execution_count": 11,
   "metadata": {
    "colab": {
     "base_uri": "https://localhost:8080/"
    },
    "id": "gfNVyzzitMNP",
    "outputId": "e6209199-422c-4d70-96dd-208d2284719b"
   },
   "outputs": [
    {
     "name": "stdout",
     "output_type": "stream",
     "text": [
      "+----+-------+---+-------+----+----------+------+----------------+------------------+--------------------+-----------------+-----------+-------+-------+--------+--------------------+------------------+----------+------------+------------+-----------+-----------+---------------+-----------------+------+--------+--------+----------+--------+-------+----------+----------+------------+--------------------+\n",
      "|year|  month|day|weekday|hour|atm_status|atm_id|atm_manufacturer|      atm_location|      atm_streetname|atm_street_number|atm_zipcode|atm_lat|atm_lon|currency|           card_type|transaction_amount|   service|message_code|message_text|weather_lat|weather_lon|weather_city_id|weather_city_name|  temp|pressure|humidity|wind_speed|wind_deg|rain_3h|clouds_all|weather_id|weather_main| weather_description|\n",
      "+----+-------+---+-------+----+----------+------+----------------+------------------+--------------------+-----------------+-----------+-------+-------+--------+--------------------+------------------+----------+------------+------------+-----------+-----------+---------------+-----------------+------+--------+--------+----------+--------+-------+----------+----------+------------+--------------------+\n",
      "|2017|January|  1| Sunday|   0|    Active|     1|             NCR|        NÃƒÂ¦stved|         Farimagsvej|                8|       4700| 55.233| 11.763|     DKK|          MasterCard|              5643|Withdrawal|        null|        null|      55.23|     11.761|        2616038|         Naestved|281.15|    1014|      87|         7|     260|  0.215|        92|       500|        Rain|          light rain|\n",
      "|2017|January|  1| Sunday|   0|  Inactive|     2|             NCR|          Vejgaard|          Hadsundvej|               20|       9000| 57.043|   9.95|     DKK|          MasterCard|              1764|Withdrawal|        null|        null|     57.048|      9.935|        2616235|   NÃƒÂ¸rresundby|280.64|    1020|      93|         9|     250|   0.59|        92|       500|        Rain|          light rain|\n",
      "|2017|January|  1| Sunday|   0|  Inactive|     2|             NCR|          Vejgaard|          Hadsundvej|               20|       9000| 57.043|   9.95|     DKK|                VISA|              1891|Withdrawal|        null|        null|     57.048|      9.935|        2616235|   NÃƒÂ¸rresundby|280.64|    1020|      93|         9|     250|   0.59|        92|       500|        Rain|          light rain|\n",
      "|2017|January|  1| Sunday|   0|  Inactive|     3|             NCR|             Ikast| RÃƒÂ¥dhusstrÃƒÂ¦det|               12|       7430| 56.139|  9.154|     DKK|                VISA|              4166|Withdrawal|        null|        null|     56.139|      9.158|        2619426|            Ikast|281.15|    1011|     100|         6|     240|    0.0|        75|       300|     Drizzle|light intensity d...|\n",
      "|2017|January|  1| Sunday|   0|    Active|     4|             NCR|        Svogerslev|        BrÃƒÂ¸nsager|                1|       4000| 55.634| 12.018|     DKK|          MasterCard|              5153|Withdrawal|        null|        null|     55.642|      12.08|        2614481|         Roskilde|280.61|    1014|      87|         7|     260|    0.0|        88|       701|        Mist|                mist|\n",
      "|2017|January|  1| Sunday|   0|    Active|     5|             NCR|              Nibe|              Torvet|                1|       9240| 56.983|  9.639|     DKK|          MasterCard|              3269|Withdrawal|        null|        null|     56.981|      9.639|        2616483|             Nibe|280.64|    1020|      93|         9|     250|   0.59|        92|       500|        Rain|          light rain|\n",
      "|2017|January|  1| Sunday|   0|    Active|     6|             NCR|        Fredericia|    SjÃƒÂ¦llandsgade|               33|       7000| 55.564|  9.757|     DKK|          MasterCard|               887|Withdrawal|        null|        null|     55.566|      9.753|        2621951|       Fredericia|281.15|    1014|      93|         7|     230|   0.29|        92|       500|        Rain|          light rain|\n",
      "|2017|January|  1| Sunday|   0|    Active|     7| Diebold Nixdorf|         Hjallerup|   Hjallerup Centret|               18|       9320| 57.168| 10.148|     DKK|  Mastercard - on-us|              4626|Withdrawal|        null|        null|     57.165|     10.146|        2620275|        Hjallerup|280.64|    1020|      93|         9|     250|   0.59|        92|       500|        Rain|          light rain|\n",
      "|2017|January|  1| Sunday|   0|    Active|     8|             NCR|       GlyngÃƒÂ¸re|         FÃƒÂ¦rgevej|                1|       7870| 56.762|  8.867|     DKK|          MasterCard|               470|Withdrawal|        null|        null|     56.793|      8.853|        2615964|    Nykobing Mors|281.15|    1011|     100|         6|     240|    0.0|        75|       300|     Drizzle|light intensity d...|\n",
      "|2017|January|  1| Sunday|   0|    Active|     9| Diebold Nixdorf|           Hadsund|           Storegade|               12|       9560| 56.716| 10.114|     DKK|                VISA|              8473|Withdrawal|        null|        null|     56.715|     10.117|        2620952|          Hadsund|280.64|    1020|      93|         9|     250|   0.59|        92|       500|        Rain|          light rain|\n",
      "|2017|January|  1| Sunday|   0|    Active|    10|             NCR|    NÃƒÂ¸rresundby|              Torvet|                6|       9400| 57.059|  9.922|     DKK|             Dankort|               953|Withdrawal|        null|        null|     57.048|      9.919|        2624886|          Aalborg|280.64|    1020|      93|         9|     250|   0.59|        92|       500|        Rain|          light rain|\n",
      "|2017|January|  1| Sunday|   0|    Active|    11|             NCR|         Sauersvej|Fridtjof Nansens Vej|                2|       9210| 57.023|   9.94|     DKK|        Visa Dankort|              9346|Withdrawal|        null|        null|     57.048|      9.935|        2616235|   NÃƒÂ¸rresundby|280.64|    1020|      93|         9|     250|   0.59|        92|       500|        Rain|          light rain|\n",
      "|2017|January|  1| Sunday|   0|  Inactive|     2|             NCR|          Vejgaard|          Hadsundvej|               20|       9000| 57.043|   9.95|     DKK|  Mastercard - on-us|              3874|Withdrawal|        null|        null|     57.048|      9.935|        2616235|   NÃƒÂ¸rresundby|280.64|    1020|      93|         9|     250|   0.59|        92|       500|        Rain|          light rain|\n",
      "|2017|January|  1| Sunday|   0|  Inactive|    12|             NCR|ÃƒËœsterÃƒÂ¥  Duus|        ÃƒËœsterÃƒÂ¥|               12|       9000| 57.049|  9.922|     DKK|  Mastercard - on-us|              1329|Withdrawal|        null|        null|     57.048|      9.919|        2624886|          Aalborg|280.64|    1020|      93|         9|     250|   0.59|        92|       500|        Rain|          light rain|\n",
      "|2017|January|  1| Sunday|   0|    Active|    13|             NCR|           SÃƒÂ¦by|          Vestergade|                3|       9300| 57.334| 10.515|     DKK|  Mastercard - on-us|              5024|Withdrawal|        null|        null|     57.441|     10.537|        2621927|    Frederikshavn|281.14|    1019|      94|        12|     251|  1.275|        92|       500|        Rain|          light rain|\n",
      "|2017|January|  1| Sunday|   0|  Inactive|    14|             NCR|        HÃƒÂ¸rning|        NÃƒÂ¸rrealle|               12|       8362| 56.086| 10.037|     DKK|Visa Dankort - on-us|              1133|Withdrawal|        null|        null|     56.157|     10.211|        2624652|            Arhus|281.15|    1012|      87|         5|     250|    0.0|        92|       300|     Drizzle|light intensity d...|\n",
      "|2017|January|  1| Sunday|   0|    Active|    15|             NCR|            Vestre|           Kastetvej|               36|       9000| 57.053|  9.905|     DKK|          MasterCard|               594|Withdrawal|        null|        null|     57.048|      9.919|        2624886|          Aalborg|280.64|    1020|      93|         9|     250|   0.59|        92|       500|        Rain|          light rain|\n",
      "|2017|January|  1| Sunday|   0|  Inactive|    12|             NCR|ÃƒËœsterÃƒÂ¥  Duus|        ÃƒËœsterÃƒÂ¥|               12|       9000| 57.049|  9.922|     DKK|  Mastercard - on-us|              9570|Withdrawal|        null|        null|     57.048|      9.919|        2624886|          Aalborg|280.64|    1020|      93|         9|     250|   0.59|        92|       500|        Rain|          light rain|\n",
      "|2017|January|  1| Sunday|   0|  Inactive|    16|             NCR|             Skive|            Adelgade|                8|       7800| 56.567|  9.027|     DKK|        Visa Dankort|              6068|Withdrawal|        null|        null|     56.567|      9.033|        2613731|            Skive|281.15|    1012|     100|         7|     240|    0.0|        75|       300|     Drizzle|light intensity d...|\n",
      "|2017|January|  1| Sunday|   0|    Active|    17|             NCR|           Randers|        ÃƒËœstervold|               16|       8900| 56.462| 10.038|     DKK|                VISA|              1630|Withdrawal|        null|        null|     56.715|     10.117|        2620952|          Hadsund|280.64|    1020|      93|         9|     250|   0.59|        92|       500|        Rain|          light rain|\n",
      "+----+-------+---+-------+----+----------+------+----------------+------------------+--------------------+-----------------+-----------+-------+-------+--------+--------------------+------------------+----------+------------+------------+-----------+-----------+---------------+-----------------+------+--------+--------+----------+--------+-------+----------+----------+------------+--------------------+\n",
      "only showing top 20 rows\n",
      "\n"
     ]
    }
   ],
   "source": [
    "polished_df.show()"
   ]
  },
  {
   "cell_type": "code",
   "execution_count": 12,
   "metadata": {
    "colab": {
     "base_uri": "https://localhost:8080/"
    },
    "id": "JJo-IlBMcU1e",
    "outputId": "0c378253-c8e8-475a-ccb8-3954b7f190b9"
   },
   "outputs": [
    {
     "data": {
      "text/plain": [
       "8685"
      ]
     },
     "execution_count": 12,
     "metadata": {},
     "output_type": "execute_result"
    }
   ],
   "source": [
    "polished_df.select(['year', 'month', 'day', 'weekday', 'hour']).distinct().count()"
   ]
  },
  {
   "cell_type": "code",
   "execution_count": 13,
   "metadata": {
    "colab": {
     "base_uri": "https://localhost:8080/"
    },
    "id": "f8F51Ek3y020",
    "outputId": "b7918559-05fc-426e-f444-b1736629aa95"
   },
   "outputs": [
    {
     "data": {
      "text/plain": [
       "109"
      ]
     },
     "execution_count": 13,
     "metadata": {},
     "output_type": "execute_result"
    }
   ],
   "source": [
    "polished_df.select(['atm_location', 'atm_streetname', 'atm_street_number', 'atm_zipcode', 'atm_lat', 'atm_lon']).distinct().count()"
   ]
  },
  {
   "cell_type": "code",
   "execution_count": 14,
   "metadata": {
    "colab": {
     "base_uri": "https://localhost:8080/"
    },
    "id": "UPGPhWfpzciq",
    "outputId": "04bc4fd7-d897-4b67-aa72-291037da8d82"
   },
   "outputs": [
    {
     "data": {
      "text/plain": [
       "12"
      ]
     },
     "execution_count": 14,
     "metadata": {},
     "output_type": "execute_result"
    }
   ],
   "source": [
    "polished_df.select(['card_type']).distinct().count()"
   ]
  },
  {
   "cell_type": "code",
   "execution_count": 15,
   "metadata": {
    "colab": {
     "base_uri": "https://localhost:8080/"
    },
    "id": "clbxeuATzpem",
    "outputId": "f2894b4e-7e69-473b-ca8f-3cb5b75f2309"
   },
   "outputs": [
    {
     "data": {
      "text/plain": [
       "113"
      ]
     },
     "execution_count": 15,
     "metadata": {},
     "output_type": "execute_result"
    }
   ],
   "source": [
    "polished_df.select(['atm_manufacturer', 'atm_location', 'atm_streetname', 'atm_street_number', 'atm_zipcode', 'atm_lat', 'atm_lon', 'atm_id']).distinct().count()"
   ]
  },
  {
   "cell_type": "code",
   "execution_count": 16,
   "metadata": {
    "colab": {
     "base_uri": "https://localhost:8080/"
    },
    "id": "872iTtuI0IpW",
    "outputId": "81be187f-45da-4993-9013-273ec017eef0"
   },
   "outputs": [
    {
     "data": {
      "text/plain": [
       "2468572"
      ]
     },
     "execution_count": 16,
     "metadata": {},
     "output_type": "execute_result"
    }
   ],
   "source": [
    "polished_df.count()"
   ]
  },
  {
   "cell_type": "markdown",
   "metadata": {
    "id": "xNLd0ZJaPM7K"
   },
   "source": [
    "Create date dimension"
   ]
  },
  {
   "cell_type": "code",
   "execution_count": 17,
   "metadata": {
    "id": "2SD_B6lZNwtF"
   },
   "outputs": [],
   "source": [
    "dim_date = polished_df.select(['year', 'month', 'day', 'weekday', 'hour']).distinct()"
   ]
  },
  {
   "cell_type": "code",
   "execution_count": 18,
   "metadata": {
    "colab": {
     "base_uri": "https://localhost:8080/"
    },
    "id": "COiVETKTPBXw",
    "outputId": "f58b74f1-dedc-4aec-ca8c-48e3330e0bd6"
   },
   "outputs": [
    {
     "name": "stdout",
     "output_type": "stream",
     "text": [
      "+----+--------+---+--------+----+\n",
      "|year|   month|day| weekday|hour|\n",
      "+----+--------+---+--------+----+\n",
      "|2017| January|  1|  Sunday|   9|\n",
      "|2017| January|  3| Tuesday|   5|\n",
      "|2017| January|  8|  Sunday|  19|\n",
      "|2017| January| 21|Saturday|   3|\n",
      "|2017| January| 23|  Monday|  21|\n",
      "|2017|February|  2|Thursday|  19|\n",
      "|2017|February|  5|  Sunday|  16|\n",
      "|2017|February| 21| Tuesday|  15|\n",
      "|2017|   March|  2|Thursday|   8|\n",
      "|2017|   April|  2|  Sunday|   2|\n",
      "+----+--------+---+--------+----+\n",
      "only showing top 10 rows\n",
      "\n"
     ]
    }
   ],
   "source": [
    "dim_date.show(10)"
   ]
  },
  {
   "cell_type": "code",
   "execution_count": 19,
   "metadata": {
    "id": "TKbh2fd2PF9K"
   },
   "outputs": [],
   "source": [
    "from datetime import datetime\n",
    "\n",
    "# add full date\n",
    "merge_date = udf(lambda day, month, year, hour: \"{}/{}/{} {}\".format(day, datetime.strptime(month, '%B').month, year, hour))\n",
    "\n",
    "dim_date = dim_date.withColumn('full_date', merge_date('day', 'month', 'year', 'hour'))\n",
    "dim_date = dim_date.withColumn('full_date', to_timestamp(\"full_date\", format=\"d/M/yyyy H\")).orderBy('full_date')"
   ]
  },
  {
   "cell_type": "code",
   "execution_count": 20,
   "metadata": {
    "id": "fIW5UoslAUcN"
   },
   "outputs": [],
   "source": [
    "increasing_id = Window.orderBy(monotonically_increasing_id())\n",
    "dim_date = dim_date.withColumn('date_id', row_number().over(increasing_id))\n",
    "dim_date = dim_date.select([dim_date.columns[-1]] + dim_date.columns[:-1])"
   ]
  },
  {
   "cell_type": "code",
   "execution_count": 21,
   "metadata": {
    "colab": {
     "base_uri": "https://localhost:8080/"
    },
    "id": "cg2rrbUMnCxg",
    "outputId": "36ed707c-e522-4d4e-f7d9-cb4aac846a9c"
   },
   "outputs": [
    {
     "name": "stdout",
     "output_type": "stream",
     "text": [
      "+-------+----+-------+---+-------+----+-------------------+\n",
      "|date_id|year|  month|day|weekday|hour|          full_date|\n",
      "+-------+----+-------+---+-------+----+-------------------+\n",
      "|      1|2017|January|  1| Sunday|   0|2017-01-01 00:00:00|\n",
      "|      2|2017|January|  1| Sunday|   1|2017-01-01 01:00:00|\n",
      "|      3|2017|January|  1| Sunday|   2|2017-01-01 02:00:00|\n",
      "|      4|2017|January|  1| Sunday|   3|2017-01-01 03:00:00|\n",
      "|      5|2017|January|  1| Sunday|   4|2017-01-01 04:00:00|\n",
      "|      6|2017|January|  1| Sunday|   5|2017-01-01 05:00:00|\n",
      "|      7|2017|January|  1| Sunday|   6|2017-01-01 06:00:00|\n",
      "|      8|2017|January|  1| Sunday|   7|2017-01-01 07:00:00|\n",
      "|      9|2017|January|  1| Sunday|   8|2017-01-01 08:00:00|\n",
      "|     10|2017|January|  1| Sunday|   9|2017-01-01 09:00:00|\n",
      "|     11|2017|January|  1| Sunday|  10|2017-01-01 10:00:00|\n",
      "|     12|2017|January|  1| Sunday|  11|2017-01-01 11:00:00|\n",
      "|     13|2017|January|  1| Sunday|  12|2017-01-01 12:00:00|\n",
      "|     14|2017|January|  1| Sunday|  13|2017-01-01 13:00:00|\n",
      "|     15|2017|January|  1| Sunday|  14|2017-01-01 14:00:00|\n",
      "|     16|2017|January|  1| Sunday|  15|2017-01-01 15:00:00|\n",
      "|     17|2017|January|  1| Sunday|  16|2017-01-01 16:00:00|\n",
      "|     18|2017|January|  1| Sunday|  17|2017-01-01 17:00:00|\n",
      "|     19|2017|January|  1| Sunday|  18|2017-01-01 18:00:00|\n",
      "|     20|2017|January|  1| Sunday|  19|2017-01-01 19:00:00|\n",
      "+-------+----+-------+---+-------+----+-------------------+\n",
      "only showing top 20 rows\n",
      "\n"
     ]
    }
   ],
   "source": [
    "dim_date.show()"
   ]
  },
  {
   "cell_type": "code",
   "execution_count": 22,
   "metadata": {
    "colab": {
     "base_uri": "https://localhost:8080/"
    },
    "id": "fWjPY5WBlH7F",
    "outputId": "a7c74bf6-6d22-4e83-ce45-f8ba7ea0c9ed"
   },
   "outputs": [
    {
     "name": "stdout",
     "output_type": "stream",
     "text": [
      "root\n",
      " |-- date_id: integer (nullable = true)\n",
      " |-- year: integer (nullable = true)\n",
      " |-- month: string (nullable = true)\n",
      " |-- day: integer (nullable = true)\n",
      " |-- weekday: string (nullable = true)\n",
      " |-- hour: integer (nullable = true)\n",
      " |-- full_date: timestamp (nullable = true)\n",
      "\n"
     ]
    }
   ],
   "source": [
    "dim_date.printSchema()"
   ]
  },
  {
   "cell_type": "markdown",
   "metadata": {
    "id": "fY1vZwE-hd3I"
   },
   "source": [
    "Create location dimension"
   ]
  },
  {
   "cell_type": "code",
   "execution_count": 23,
   "metadata": {
    "id": "Xspi3jTiUWpz"
   },
   "outputs": [],
   "source": [
    "dim_location = polished_df.select(['atm_location', 'atm_streetname', 'atm_street_number', 'atm_zipcode', 'atm_lat', 'atm_lon']).distinct()"
   ]
  },
  {
   "cell_type": "code",
   "execution_count": 24,
   "metadata": {
    "colab": {
     "base_uri": "https://localhost:8080/"
    },
    "id": "V6HbbpQFZcs1",
    "outputId": "425f1318-e0be-46df-c9ab-9f42fa7aadb9"
   },
   "outputs": [
    {
     "name": "stdout",
     "output_type": "stream",
     "text": [
      "+--------------------+--------------------+-----------------+-----------+-------+-------+\n",
      "|        atm_location|      atm_streetname|atm_street_number|atm_zipcode|atm_lat|atm_lon|\n",
      "+--------------------+--------------------+-----------------+-----------+-------+-------+\n",
      "|         SÃƒÂ¦by Syd|Trafikcenter SÃƒÂ...|                1|       9300| 57.313|  10.45|\n",
      "|         GlyngÃƒÂ¸re|         FÃƒÂ¦rgevej|                1|       7870| 56.762|  8.867|\n",
      "|      Skelagervej 15|         Skelagervej|               15|       9000| 57.023|  9.891|\n",
      "|               Durup|              Torvet|                4|       7870| 56.745|  8.949|\n",
      "|           Svendborg|  Sankt Nicolai Gade|                1|       5700| 55.058| 10.609|\n",
      "|             Herning|          Dalgasgade|               30|       7400| 56.135|  8.971|\n",
      "|            Roskilde|    KÃƒÂ¸benhavnsvej|               65|       4000| 55.642| 12.106|\n",
      "|Aalborg Storcente...|            Hobrovej|              452|       9200| 57.005|  9.876|\n",
      "|          NÃƒÂ¦stved|        Farimagsgade|                8|       4700|  55.69| 12.575|\n",
      "|          Abildgaard|      HjÃƒÂ¸rringvej|              144|       9900| 57.447| 10.506|\n",
      "|             Vodskov|          Vodskovvej|               27|       9310| 57.104| 10.027|\n",
      "|  Storcenter indg. A|            Hobrovej|              452|       9200| 57.005|  9.876|\n",
      "|  ÃƒËœsterÃƒÂ¥  Duus|        ÃƒËœsterÃƒÂ¥|               12|       9000| 57.049|  9.922|\n",
      "|         HÃƒÂ¸jbjerg|      Rosenvangsalle|              194|       8270| 56.119| 10.192|\n",
      "|NykÃƒÂ¸bing Mors ...|         Kirketorvet|                1|       7900| 56.795|   8.86|\n",
      "|           Hjallerup|   Hjallerup Centret|               18|       9320| 57.168| 10.148|\n",
      "|         Skive Lobby|            Adelgade|                8|       7800| 56.567|  9.027|\n",
      "|          Svogerslev|        BrÃƒÂ¸nsager|                1|       4000| 55.634| 12.018|\n",
      "|              Aarhus|      SÃƒÂ¸nder Alle|               11|       8000| 56.153| 10.206|\n",
      "|              Odense|        FÃƒÂ¦lledvej|                3|       5000| 55.394|  10.37|\n",
      "+--------------------+--------------------+-----------------+-----------+-------+-------+\n",
      "only showing top 20 rows\n",
      "\n"
     ]
    }
   ],
   "source": [
    "dim_location.show()"
   ]
  },
  {
   "cell_type": "code",
   "execution_count": 25,
   "metadata": {
    "id": "qhl94NC_0JCA"
   },
   "outputs": [],
   "source": [
    "# add sequential id to the locaiton dimension\n",
    "# rename column names\n",
    "increasing_id = Window.orderBy(monotonically_increasing_id())\n",
    "dim_location = dim_location.withColumn('location_id', row_number().over(increasing_id))\n",
    "dim_location = dim_location.select([dim_location.columns[-1]] + dim_location.columns[:-1])\n",
    "dim_location = dim_location.withColumnRenamed('atm_location', 'location') \\\n",
    "  .withColumnRenamed('atm_streetname', 'streetname') \\\n",
    "  .withColumnRenamed('atm_street_number', 'street_number') \\\n",
    "  .withColumnRenamed('atm_zipcode', 'zipcode') \\\n",
    "  .withColumnRenamed('atm_lat', 'lat') \\\n",
    "  .withColumnRenamed('atm_lon', 'lon')"
   ]
  },
  {
   "cell_type": "code",
   "execution_count": 26,
   "metadata": {
    "colab": {
     "base_uri": "https://localhost:8080/"
    },
    "id": "Rw-AQME83AVE",
    "outputId": "bbbb8bdb-21c5-45a1-dfc2-50535d855b6c"
   },
   "outputs": [
    {
     "name": "stdout",
     "output_type": "stream",
     "text": [
      "+-----------+--------------------+--------------------+-------------+-------+------+------+\n",
      "|location_id|            location|          streetname|street_number|zipcode|   lat|   lon|\n",
      "+-----------+--------------------+--------------------+-------------+-------+------+------+\n",
      "|          1|         SÃƒÂ¦by Syd|Trafikcenter SÃƒÂ...|            1|   9300|57.313| 10.45|\n",
      "|          2|         GlyngÃƒÂ¸re|         FÃƒÂ¦rgevej|            1|   7870|56.762| 8.867|\n",
      "|          3|      Skelagervej 15|         Skelagervej|           15|   9000|57.023| 9.891|\n",
      "|          4|               Durup|              Torvet|            4|   7870|56.745| 8.949|\n",
      "|          5|           Svendborg|  Sankt Nicolai Gade|            1|   5700|55.058|10.609|\n",
      "|          6|             Herning|          Dalgasgade|           30|   7400|56.135| 8.971|\n",
      "|          7|            Roskilde|    KÃƒÂ¸benhavnsvej|           65|   4000|55.642|12.106|\n",
      "|          8|Aalborg Storcente...|            Hobrovej|          452|   9200|57.005| 9.876|\n",
      "|          9|          NÃƒÂ¦stved|        Farimagsgade|            8|   4700| 55.69|12.575|\n",
      "|         10|          Abildgaard|      HjÃƒÂ¸rringvej|          144|   9900|57.447|10.506|\n",
      "|         11|             Vodskov|          Vodskovvej|           27|   9310|57.104|10.027|\n",
      "|         12|  Storcenter indg. A|            Hobrovej|          452|   9200|57.005| 9.876|\n",
      "|         13|  ÃƒËœsterÃƒÂ¥  Duus|        ÃƒËœsterÃƒÂ¥|           12|   9000|57.049| 9.922|\n",
      "|         14|         HÃƒÂ¸jbjerg|      Rosenvangsalle|          194|   8270|56.119|10.192|\n",
      "|         15|NykÃƒÂ¸bing Mors ...|         Kirketorvet|            1|   7900|56.795|  8.86|\n",
      "|         16|           Hjallerup|   Hjallerup Centret|           18|   9320|57.168|10.148|\n",
      "|         17|         Skive Lobby|            Adelgade|            8|   7800|56.567| 9.027|\n",
      "|         18|          Svogerslev|        BrÃƒÂ¸nsager|            1|   4000|55.634|12.018|\n",
      "|         19|              Aarhus|      SÃƒÂ¸nder Alle|           11|   8000|56.153|10.206|\n",
      "|         20|              Odense|        FÃƒÂ¦lledvej|            3|   5000|55.394| 10.37|\n",
      "+-----------+--------------------+--------------------+-------------+-------+------+------+\n",
      "only showing top 20 rows\n",
      "\n"
     ]
    }
   ],
   "source": [
    "dim_location.show()"
   ]
  },
  {
   "cell_type": "code",
   "execution_count": 27,
   "metadata": {
    "colab": {
     "base_uri": "https://localhost:8080/"
    },
    "id": "OyxUCy93cCcu",
    "outputId": "448918ff-99d7-4ac0-c6c3-128bb7ea93bd"
   },
   "outputs": [
    {
     "data": {
      "text/plain": [
       "109"
      ]
     },
     "execution_count": 27,
     "metadata": {},
     "output_type": "execute_result"
    }
   ],
   "source": [
    "dim_location.count()"
   ]
  },
  {
   "cell_type": "markdown",
   "metadata": {
    "id": "CxkJGFn5zXcJ"
   },
   "source": [
    "Create ATM dimension"
   ]
  },
  {
   "cell_type": "code",
   "execution_count": 28,
   "metadata": {
    "id": "aZoPXt4N62cx"
   },
   "outputs": [],
   "source": [
    "id_and_location = list(dim_location.select(['location_id', 'location']).collect())\n",
    "id_location_dict = dict()\n",
    "\n",
    "for location_id, location in id_and_location:\n",
    "  id_location_dict[location] = location_id"
   ]
  },
  {
   "cell_type": "code",
   "execution_count": 29,
   "metadata": {
    "id": "iYzmT-pN5e7e"
   },
   "outputs": [],
   "source": [
    "add_location_id = udf(lambda location: id_location_dict[location])\n",
    "\n",
    "dim_atm = polished_df.select(['atm_id', 'atm_manufacturer', 'atm_location']).withColumn('location_id', add_location_id(polished_df.atm_location)).distinct()\n",
    "dim_atm = dim_atm.drop('atm_location').orderBy('atm_id')"
   ]
  },
  {
   "cell_type": "code",
   "execution_count": 30,
   "metadata": {
    "id": "XID5nlHxszFe"
   },
   "outputs": [],
   "source": [
    "dim_atm = dim_atm.withColumn('atm_number', dim_atm['atm_id'])\n",
    "dim_atm = dim_atm.select([dim_atm.columns[0]] + [dim_atm.columns[-1]] + [dim_atm.columns[1]] + [dim_atm.columns[2]])\n",
    "dim_atm = dim_atm.withColumn('atm_number', col('atm_number').cast(StringType()))"
   ]
  },
  {
   "cell_type": "code",
   "execution_count": 31,
   "metadata": {
    "colab": {
     "base_uri": "https://localhost:8080/"
    },
    "id": "n6R5dLPxBIH0",
    "outputId": "5c50d030-3747-42d3-e243-65d53c2481fb"
   },
   "outputs": [
    {
     "name": "stdout",
     "output_type": "stream",
     "text": [
      "+------+----------+----------------+-----------+\n",
      "|atm_id|atm_number|atm_manufacturer|location_id|\n",
      "+------+----------+----------------+-----------+\n",
      "|     1|         1|             NCR|         81|\n",
      "|     2|         2|             NCR|         38|\n",
      "|     3|         3|             NCR|         84|\n",
      "|     4|         4|             NCR|         18|\n",
      "|     5|         5|             NCR|         35|\n",
      "|     6|         6|             NCR|        105|\n",
      "|     7|         7| Diebold Nixdorf|         16|\n",
      "|     8|         8|             NCR|          2|\n",
      "|     9|         9| Diebold Nixdorf|         94|\n",
      "|    10|        10|             NCR|         46|\n",
      "|    11|        11|             NCR|         23|\n",
      "|    12|        12|             NCR|         13|\n",
      "|    13|        13|             NCR|         88|\n",
      "|    14|        14|             NCR|         47|\n",
      "|    15|        15|             NCR|         83|\n",
      "|    16|        16|             NCR|         58|\n",
      "|    17|        17|             NCR|        107|\n",
      "|    18|        18| Diebold Nixdorf|         43|\n",
      "|    19|        19|             NCR|         89|\n",
      "|    20|        20|             NCR|         74|\n",
      "+------+----------+----------------+-----------+\n",
      "only showing top 20 rows\n",
      "\n"
     ]
    }
   ],
   "source": [
    "dim_atm.show()"
   ]
  },
  {
   "cell_type": "code",
   "execution_count": 32,
   "metadata": {
    "colab": {
     "base_uri": "https://localhost:8080/"
    },
    "id": "wET5mHf5swdX",
    "outputId": "39f809d6-d235-4776-e06a-6d7d90d52822"
   },
   "outputs": [
    {
     "name": "stdout",
     "output_type": "stream",
     "text": [
      "root\n",
      " |-- atm_id: integer (nullable = true)\n",
      " |-- atm_number: string (nullable = true)\n",
      " |-- atm_manufacturer: string (nullable = true)\n",
      " |-- location_id: string (nullable = true)\n",
      "\n"
     ]
    }
   ],
   "source": [
    "dim_atm.printSchema()"
   ]
  },
  {
   "cell_type": "code",
   "execution_count": 33,
   "metadata": {
    "colab": {
     "base_uri": "https://localhost:8080/"
    },
    "id": "yX5oZVfw_laa",
    "outputId": "39cea36c-7042-4662-8f10-2283ecbef26a"
   },
   "outputs": [
    {
     "data": {
      "text/plain": [
       "113"
      ]
     },
     "execution_count": 33,
     "metadata": {},
     "output_type": "execute_result"
    }
   ],
   "source": [
    "dim_atm.select('atm_number').count()"
   ]
  },
  {
   "cell_type": "markdown",
   "metadata": {
    "id": "buopC_vtGo5N"
   },
   "source": [
    "Create card type dimension"
   ]
  },
  {
   "cell_type": "code",
   "execution_count": 34,
   "metadata": {
    "id": "vN9MI7OXGzCS"
   },
   "outputs": [],
   "source": [
    "dim_card_type = polished_df.select(['card_type']).distinct()\n",
    "increasing_id = Window.orderBy(monotonically_increasing_id())\n",
    "dim_card_type = dim_card_type.withColumn('card_type_id', row_number().over(increasing_id))\n",
    "dim_card_type = dim_card_type.select([dim_card_type.columns[-1]] + dim_card_type.columns[:-1])"
   ]
  },
  {
   "cell_type": "code",
   "execution_count": 35,
   "metadata": {
    "colab": {
     "base_uri": "https://localhost:8080/"
    },
    "id": "tiVLANAaHebR",
    "outputId": "abb1acb0-666e-4236-976f-222988c8e5d8"
   },
   "outputs": [
    {
     "name": "stdout",
     "output_type": "stream",
     "text": [
      "+------------+--------------------+\n",
      "|card_type_id|           card_type|\n",
      "+------------+--------------------+\n",
      "|           1|     Dankort - on-us|\n",
      "|           2|              CIRRUS|\n",
      "|           3|         HÃƒÂ¦vekort|\n",
      "|           4|                VISA|\n",
      "|           5|  Mastercard - on-us|\n",
      "|           6|             Maestro|\n",
      "|           7|Visa Dankort - on-us|\n",
      "|           8|        Visa Dankort|\n",
      "|           9|            VisaPlus|\n",
      "|          10|          MasterCard|\n",
      "|          11|             Dankort|\n",
      "|          12| HÃƒÂ¦vekort - on-us|\n",
      "+------------+--------------------+\n",
      "\n"
     ]
    }
   ],
   "source": [
    "dim_card_type.show()"
   ]
  },
  {
   "cell_type": "code",
   "execution_count": 36,
   "metadata": {
    "colab": {
     "base_uri": "https://localhost:8080/"
    },
    "id": "_4B2w_pnvm7w",
    "outputId": "d0359fb6-0393-46c2-9710-1ba7006e1b65"
   },
   "outputs": [
    {
     "name": "stdout",
     "output_type": "stream",
     "text": [
      "root\n",
      " |-- card_type_id: integer (nullable = true)\n",
      " |-- card_type: string (nullable = true)\n",
      "\n"
     ]
    }
   ],
   "source": [
    "dim_card_type.printSchema()"
   ]
  },
  {
   "cell_type": "markdown",
   "metadata": {
    "id": "QRp2TsdBJG4C"
   },
   "source": [
    "Create transaction fact table"
   ]
  },
  {
   "cell_type": "code",
   "execution_count": 37,
   "metadata": {
    "id": "WQ-1uWjTJMZO"
   },
   "outputs": [],
   "source": [
    "transaction_fact = polished_df"
   ]
  },
  {
   "cell_type": "code",
   "execution_count": 38,
   "metadata": {
    "colab": {
     "base_uri": "https://localhost:8080/"
    },
    "id": "jasuJ4gg5K50",
    "outputId": "99b7d1bf-5bf9-4b2d-c08c-e923a4610c2c"
   },
   "outputs": [
    {
     "name": "stdout",
     "output_type": "stream",
     "text": [
      "+----+-------+---+-------+----+----------+------+----------------+------------------+--------------------+-----------------+-----------+-------+-------+--------+--------------------+------------------+----------+------------+------------+-----------+-----------+---------------+-----------------+------+--------+--------+----------+--------+-------+----------+----------+------------+--------------------+\n",
      "|year|  month|day|weekday|hour|atm_status|atm_id|atm_manufacturer|      atm_location|      atm_streetname|atm_street_number|atm_zipcode|atm_lat|atm_lon|currency|           card_type|transaction_amount|   service|message_code|message_text|weather_lat|weather_lon|weather_city_id|weather_city_name|  temp|pressure|humidity|wind_speed|wind_deg|rain_3h|clouds_all|weather_id|weather_main| weather_description|\n",
      "+----+-------+---+-------+----+----------+------+----------------+------------------+--------------------+-----------------+-----------+-------+-------+--------+--------------------+------------------+----------+------------+------------+-----------+-----------+---------------+-----------------+------+--------+--------+----------+--------+-------+----------+----------+------------+--------------------+\n",
      "|2017|January|  1| Sunday|   0|    Active|     1|             NCR|        NÃƒÂ¦stved|         Farimagsvej|                8|       4700| 55.233| 11.763|     DKK|          MasterCard|              5643|Withdrawal|        null|        null|      55.23|     11.761|        2616038|         Naestved|281.15|    1014|      87|         7|     260|  0.215|        92|       500|        Rain|          light rain|\n",
      "|2017|January|  1| Sunday|   0|  Inactive|     2|             NCR|          Vejgaard|          Hadsundvej|               20|       9000| 57.043|   9.95|     DKK|          MasterCard|              1764|Withdrawal|        null|        null|     57.048|      9.935|        2616235|   NÃƒÂ¸rresundby|280.64|    1020|      93|         9|     250|   0.59|        92|       500|        Rain|          light rain|\n",
      "|2017|January|  1| Sunday|   0|  Inactive|     2|             NCR|          Vejgaard|          Hadsundvej|               20|       9000| 57.043|   9.95|     DKK|                VISA|              1891|Withdrawal|        null|        null|     57.048|      9.935|        2616235|   NÃƒÂ¸rresundby|280.64|    1020|      93|         9|     250|   0.59|        92|       500|        Rain|          light rain|\n",
      "|2017|January|  1| Sunday|   0|  Inactive|     3|             NCR|             Ikast| RÃƒÂ¥dhusstrÃƒÂ¦det|               12|       7430| 56.139|  9.154|     DKK|                VISA|              4166|Withdrawal|        null|        null|     56.139|      9.158|        2619426|            Ikast|281.15|    1011|     100|         6|     240|    0.0|        75|       300|     Drizzle|light intensity d...|\n",
      "|2017|January|  1| Sunday|   0|    Active|     4|             NCR|        Svogerslev|        BrÃƒÂ¸nsager|                1|       4000| 55.634| 12.018|     DKK|          MasterCard|              5153|Withdrawal|        null|        null|     55.642|      12.08|        2614481|         Roskilde|280.61|    1014|      87|         7|     260|    0.0|        88|       701|        Mist|                mist|\n",
      "|2017|January|  1| Sunday|   0|    Active|     5|             NCR|              Nibe|              Torvet|                1|       9240| 56.983|  9.639|     DKK|          MasterCard|              3269|Withdrawal|        null|        null|     56.981|      9.639|        2616483|             Nibe|280.64|    1020|      93|         9|     250|   0.59|        92|       500|        Rain|          light rain|\n",
      "|2017|January|  1| Sunday|   0|    Active|     6|             NCR|        Fredericia|    SjÃƒÂ¦llandsgade|               33|       7000| 55.564|  9.757|     DKK|          MasterCard|               887|Withdrawal|        null|        null|     55.566|      9.753|        2621951|       Fredericia|281.15|    1014|      93|         7|     230|   0.29|        92|       500|        Rain|          light rain|\n",
      "|2017|January|  1| Sunday|   0|    Active|     7| Diebold Nixdorf|         Hjallerup|   Hjallerup Centret|               18|       9320| 57.168| 10.148|     DKK|  Mastercard - on-us|              4626|Withdrawal|        null|        null|     57.165|     10.146|        2620275|        Hjallerup|280.64|    1020|      93|         9|     250|   0.59|        92|       500|        Rain|          light rain|\n",
      "|2017|January|  1| Sunday|   0|    Active|     8|             NCR|       GlyngÃƒÂ¸re|         FÃƒÂ¦rgevej|                1|       7870| 56.762|  8.867|     DKK|          MasterCard|               470|Withdrawal|        null|        null|     56.793|      8.853|        2615964|    Nykobing Mors|281.15|    1011|     100|         6|     240|    0.0|        75|       300|     Drizzle|light intensity d...|\n",
      "|2017|January|  1| Sunday|   0|    Active|     9| Diebold Nixdorf|           Hadsund|           Storegade|               12|       9560| 56.716| 10.114|     DKK|                VISA|              8473|Withdrawal|        null|        null|     56.715|     10.117|        2620952|          Hadsund|280.64|    1020|      93|         9|     250|   0.59|        92|       500|        Rain|          light rain|\n",
      "|2017|January|  1| Sunday|   0|    Active|    10|             NCR|    NÃƒÂ¸rresundby|              Torvet|                6|       9400| 57.059|  9.922|     DKK|             Dankort|               953|Withdrawal|        null|        null|     57.048|      9.919|        2624886|          Aalborg|280.64|    1020|      93|         9|     250|   0.59|        92|       500|        Rain|          light rain|\n",
      "|2017|January|  1| Sunday|   0|    Active|    11|             NCR|         Sauersvej|Fridtjof Nansens Vej|                2|       9210| 57.023|   9.94|     DKK|        Visa Dankort|              9346|Withdrawal|        null|        null|     57.048|      9.935|        2616235|   NÃƒÂ¸rresundby|280.64|    1020|      93|         9|     250|   0.59|        92|       500|        Rain|          light rain|\n",
      "|2017|January|  1| Sunday|   0|  Inactive|     2|             NCR|          Vejgaard|          Hadsundvej|               20|       9000| 57.043|   9.95|     DKK|  Mastercard - on-us|              3874|Withdrawal|        null|        null|     57.048|      9.935|        2616235|   NÃƒÂ¸rresundby|280.64|    1020|      93|         9|     250|   0.59|        92|       500|        Rain|          light rain|\n",
      "|2017|January|  1| Sunday|   0|  Inactive|    12|             NCR|ÃƒËœsterÃƒÂ¥  Duus|        ÃƒËœsterÃƒÂ¥|               12|       9000| 57.049|  9.922|     DKK|  Mastercard - on-us|              1329|Withdrawal|        null|        null|     57.048|      9.919|        2624886|          Aalborg|280.64|    1020|      93|         9|     250|   0.59|        92|       500|        Rain|          light rain|\n",
      "|2017|January|  1| Sunday|   0|    Active|    13|             NCR|           SÃƒÂ¦by|          Vestergade|                3|       9300| 57.334| 10.515|     DKK|  Mastercard - on-us|              5024|Withdrawal|        null|        null|     57.441|     10.537|        2621927|    Frederikshavn|281.14|    1019|      94|        12|     251|  1.275|        92|       500|        Rain|          light rain|\n",
      "|2017|January|  1| Sunday|   0|  Inactive|    14|             NCR|        HÃƒÂ¸rning|        NÃƒÂ¸rrealle|               12|       8362| 56.086| 10.037|     DKK|Visa Dankort - on-us|              1133|Withdrawal|        null|        null|     56.157|     10.211|        2624652|            Arhus|281.15|    1012|      87|         5|     250|    0.0|        92|       300|     Drizzle|light intensity d...|\n",
      "|2017|January|  1| Sunday|   0|    Active|    15|             NCR|            Vestre|           Kastetvej|               36|       9000| 57.053|  9.905|     DKK|          MasterCard|               594|Withdrawal|        null|        null|     57.048|      9.919|        2624886|          Aalborg|280.64|    1020|      93|         9|     250|   0.59|        92|       500|        Rain|          light rain|\n",
      "|2017|January|  1| Sunday|   0|  Inactive|    12|             NCR|ÃƒËœsterÃƒÂ¥  Duus|        ÃƒËœsterÃƒÂ¥|               12|       9000| 57.049|  9.922|     DKK|  Mastercard - on-us|              9570|Withdrawal|        null|        null|     57.048|      9.919|        2624886|          Aalborg|280.64|    1020|      93|         9|     250|   0.59|        92|       500|        Rain|          light rain|\n",
      "|2017|January|  1| Sunday|   0|  Inactive|    16|             NCR|             Skive|            Adelgade|                8|       7800| 56.567|  9.027|     DKK|        Visa Dankort|              6068|Withdrawal|        null|        null|     56.567|      9.033|        2613731|            Skive|281.15|    1012|     100|         7|     240|    0.0|        75|       300|     Drizzle|light intensity d...|\n",
      "|2017|January|  1| Sunday|   0|    Active|    17|             NCR|           Randers|        ÃƒËœstervold|               16|       8900| 56.462| 10.038|     DKK|                VISA|              1630|Withdrawal|        null|        null|     56.715|     10.117|        2620952|          Hadsund|280.64|    1020|      93|         9|     250|   0.59|        92|       500|        Rain|          light rain|\n",
      "+----+-------+---+-------+----+----------+------+----------------+------------------+--------------------+-----------------+-----------+-------+-------+--------+--------------------+------------------+----------+------------+------------+-----------+-----------+---------------+-----------------+------+--------+--------+----------+--------+-------+----------+----------+------------+--------------------+\n",
      "only showing top 20 rows\n",
      "\n"
     ]
    }
   ],
   "source": [
    "transaction_fact.show()"
   ]
  },
  {
   "cell_type": "code",
   "execution_count": 39,
   "metadata": {
    "id": "HZoBeLFnTVmV"
   },
   "outputs": [],
   "source": [
    "# modify card type column\n",
    "\n",
    "# get the pairs \n",
    "card_type_list = list(dim_card_type.select(['card_type_id', 'card_type']).collect())\n",
    "card_type_dict = dict()\n",
    "\n",
    "for card in card_type_list:\n",
    "  card_type_dict[card.card_type] = card.card_type_id\n",
    "\n",
    "get_card_type_id = udf(lambda card: card_type_dict[card])\n",
    "transaction_fact = transaction_fact.withColumn('card_type', get_card_type_id('card_type')) \\\n",
    "  .withColumnRenamed('card_type', 'card_type_id')"
   ]
  },
  {
   "cell_type": "code",
   "execution_count": 40,
   "metadata": {
    "id": "wmDAmQaif12B"
   },
   "outputs": [],
   "source": [
    "# modify weather city name\n",
    "location_list = list(dim_location.select(['location_id', 'location']).collect())\n",
    "location_dict = dict()\n",
    "\n",
    "for loc in location_list:\n",
    "  location_dict[loc.location] = loc.location_id\n",
    "\n",
    "get_weather_location_id = udf(lambda location: location_dict[location] if location in location_dict.keys() else None)\n",
    "transaction_fact = transaction_fact.withColumn('weather_city_name', get_weather_location_id('weather_city_name')) \\\n",
    "  .withColumnRenamed('weather_city_name', 'weather_loc_id')"
   ]
  },
  {
   "cell_type": "code",
   "execution_count": 41,
   "metadata": {
    "colab": {
     "base_uri": "https://localhost:8080/"
    },
    "id": "gFoPdf_Gbry4",
    "outputId": "d22e4a4f-55ef-4e99-856a-07abc6f918af"
   },
   "outputs": [
    {
     "name": "stdout",
     "output_type": "stream",
     "text": [
      "+----+-------+---+-------+----+----------+------+----------------+------------------+--------------------+-----------------+-----------+-------+-------+--------+------------+------------------+----------+------------+------------+-----------+-----------+---------------+--------------+------+--------+--------+----------+--------+-------+----------+----------+------------+--------------------+\n",
      "|year|  month|day|weekday|hour|atm_status|atm_id|atm_manufacturer|      atm_location|      atm_streetname|atm_street_number|atm_zipcode|atm_lat|atm_lon|currency|card_type_id|transaction_amount|   service|message_code|message_text|weather_lat|weather_lon|weather_city_id|weather_loc_id|  temp|pressure|humidity|wind_speed|wind_deg|rain_3h|clouds_all|weather_id|weather_main| weather_description|\n",
      "+----+-------+---+-------+----+----------+------+----------------+------------------+--------------------+-----------------+-----------+-------+-------+--------+------------+------------------+----------+------------+------------+-----------+-----------+---------------+--------------+------+--------+--------+----------+--------+-------+----------+----------+------------+--------------------+\n",
      "|2017|January|  1| Sunday|   0|    Active|     1|             NCR|        NÃƒÂ¦stved|         Farimagsvej|                8|       4700| 55.233| 11.763|     DKK|          10|              5643|Withdrawal|        null|        null|      55.23|     11.761|        2616038|          null|281.15|    1014|      87|         7|     260|  0.215|        92|       500|        Rain|          light rain|\n",
      "|2017|January|  1| Sunday|   0|  Inactive|     2|             NCR|          Vejgaard|          Hadsundvej|               20|       9000| 57.043|   9.95|     DKK|          10|              1764|Withdrawal|        null|        null|     57.048|      9.935|        2616235|            46|280.64|    1020|      93|         9|     250|   0.59|        92|       500|        Rain|          light rain|\n",
      "|2017|January|  1| Sunday|   0|  Inactive|     2|             NCR|          Vejgaard|          Hadsundvej|               20|       9000| 57.043|   9.95|     DKK|           4|              1891|Withdrawal|        null|        null|     57.048|      9.935|        2616235|            46|280.64|    1020|      93|         9|     250|   0.59|        92|       500|        Rain|          light rain|\n",
      "|2017|January|  1| Sunday|   0|  Inactive|     3|             NCR|             Ikast| RÃƒÂ¥dhusstrÃƒÂ¦det|               12|       7430| 56.139|  9.154|     DKK|           4|              4166|Withdrawal|        null|        null|     56.139|      9.158|        2619426|            84|281.15|    1011|     100|         6|     240|    0.0|        75|       300|     Drizzle|light intensity d...|\n",
      "|2017|January|  1| Sunday|   0|    Active|     4|             NCR|        Svogerslev|        BrÃƒÂ¸nsager|                1|       4000| 55.634| 12.018|     DKK|          10|              5153|Withdrawal|        null|        null|     55.642|      12.08|        2614481|             7|280.61|    1014|      87|         7|     260|    0.0|        88|       701|        Mist|                mist|\n",
      "|2017|January|  1| Sunday|   0|    Active|     5|             NCR|              Nibe|              Torvet|                1|       9240| 56.983|  9.639|     DKK|          10|              3269|Withdrawal|        null|        null|     56.981|      9.639|        2616483|            35|280.64|    1020|      93|         9|     250|   0.59|        92|       500|        Rain|          light rain|\n",
      "|2017|January|  1| Sunday|   0|    Active|     6|             NCR|        Fredericia|    SjÃƒÂ¦llandsgade|               33|       7000| 55.564|  9.757|     DKK|          10|               887|Withdrawal|        null|        null|     55.566|      9.753|        2621951|           105|281.15|    1014|      93|         7|     230|   0.29|        92|       500|        Rain|          light rain|\n",
      "|2017|January|  1| Sunday|   0|    Active|     7| Diebold Nixdorf|         Hjallerup|   Hjallerup Centret|               18|       9320| 57.168| 10.148|     DKK|           5|              4626|Withdrawal|        null|        null|     57.165|     10.146|        2620275|            16|280.64|    1020|      93|         9|     250|   0.59|        92|       500|        Rain|          light rain|\n",
      "|2017|January|  1| Sunday|   0|    Active|     8|             NCR|       GlyngÃƒÂ¸re|         FÃƒÂ¦rgevej|                1|       7870| 56.762|  8.867|     DKK|          10|               470|Withdrawal|        null|        null|     56.793|      8.853|        2615964|          null|281.15|    1011|     100|         6|     240|    0.0|        75|       300|     Drizzle|light intensity d...|\n",
      "|2017|January|  1| Sunday|   0|    Active|     9| Diebold Nixdorf|           Hadsund|           Storegade|               12|       9560| 56.716| 10.114|     DKK|           4|              8473|Withdrawal|        null|        null|     56.715|     10.117|        2620952|            94|280.64|    1020|      93|         9|     250|   0.59|        92|       500|        Rain|          light rain|\n",
      "|2017|January|  1| Sunday|   0|    Active|    10|             NCR|    NÃƒÂ¸rresundby|              Torvet|                6|       9400| 57.059|  9.922|     DKK|          11|               953|Withdrawal|        null|        null|     57.048|      9.919|        2624886|          null|280.64|    1020|      93|         9|     250|   0.59|        92|       500|        Rain|          light rain|\n",
      "|2017|January|  1| Sunday|   0|    Active|    11|             NCR|         Sauersvej|Fridtjof Nansens Vej|                2|       9210| 57.023|   9.94|     DKK|           8|              9346|Withdrawal|        null|        null|     57.048|      9.935|        2616235|            46|280.64|    1020|      93|         9|     250|   0.59|        92|       500|        Rain|          light rain|\n",
      "|2017|January|  1| Sunday|   0|  Inactive|     2|             NCR|          Vejgaard|          Hadsundvej|               20|       9000| 57.043|   9.95|     DKK|           5|              3874|Withdrawal|        null|        null|     57.048|      9.935|        2616235|            46|280.64|    1020|      93|         9|     250|   0.59|        92|       500|        Rain|          light rain|\n",
      "|2017|January|  1| Sunday|   0|  Inactive|    12|             NCR|ÃƒËœsterÃƒÂ¥  Duus|        ÃƒËœsterÃƒÂ¥|               12|       9000| 57.049|  9.922|     DKK|           5|              1329|Withdrawal|        null|        null|     57.048|      9.919|        2624886|          null|280.64|    1020|      93|         9|     250|   0.59|        92|       500|        Rain|          light rain|\n",
      "|2017|January|  1| Sunday|   0|    Active|    13|             NCR|           SÃƒÂ¦by|          Vestergade|                3|       9300| 57.334| 10.515|     DKK|           5|              5024|Withdrawal|        null|        null|     57.441|     10.537|        2621927|            63|281.14|    1019|      94|        12|     251|  1.275|        92|       500|        Rain|          light rain|\n",
      "|2017|January|  1| Sunday|   0|  Inactive|    14|             NCR|        HÃƒÂ¸rning|        NÃƒÂ¸rrealle|               12|       8362| 56.086| 10.037|     DKK|           7|              1133|Withdrawal|        null|        null|     56.157|     10.211|        2624652|          null|281.15|    1012|      87|         5|     250|    0.0|        92|       300|     Drizzle|light intensity d...|\n",
      "|2017|January|  1| Sunday|   0|    Active|    15|             NCR|            Vestre|           Kastetvej|               36|       9000| 57.053|  9.905|     DKK|          10|               594|Withdrawal|        null|        null|     57.048|      9.919|        2624886|          null|280.64|    1020|      93|         9|     250|   0.59|        92|       500|        Rain|          light rain|\n",
      "|2017|January|  1| Sunday|   0|  Inactive|    12|             NCR|ÃƒËœsterÃƒÂ¥  Duus|        ÃƒËœsterÃƒÂ¥|               12|       9000| 57.049|  9.922|     DKK|           5|              9570|Withdrawal|        null|        null|     57.048|      9.919|        2624886|          null|280.64|    1020|      93|         9|     250|   0.59|        92|       500|        Rain|          light rain|\n",
      "|2017|January|  1| Sunday|   0|  Inactive|    16|             NCR|             Skive|            Adelgade|                8|       7800| 56.567|  9.027|     DKK|           8|              6068|Withdrawal|        null|        null|     56.567|      9.033|        2613731|            58|281.15|    1012|     100|         7|     240|    0.0|        75|       300|     Drizzle|light intensity d...|\n",
      "|2017|January|  1| Sunday|   0|    Active|    17|             NCR|           Randers|        ÃƒËœstervold|               16|       8900| 56.462| 10.038|     DKK|           4|              1630|Withdrawal|        null|        null|     56.715|     10.117|        2620952|            94|280.64|    1020|      93|         9|     250|   0.59|        92|       500|        Rain|          light rain|\n",
      "+----+-------+---+-------+----+----------+------+----------------+------------------+--------------------+-----------------+-----------+-------+-------+--------+------------+------------------+----------+------------+------------+-----------+-----------+---------------+--------------+------+--------+--------+----------+--------+-------+----------+----------+------------+--------------------+\n",
      "only showing top 20 rows\n",
      "\n"
     ]
    }
   ],
   "source": [
    "transaction_fact.show()"
   ]
  },
  {
   "cell_type": "code",
   "execution_count": 42,
   "metadata": {
    "id": "F2-TwMu1Nkzt"
   },
   "outputs": [],
   "source": [
    "get_date_id = list(dim_date.select(['date_id', 'full_date']).collect())\n",
    "date_id_dict = dict()\n",
    "\n",
    "for date in get_date_id:\n",
    "  date_id_dict[date.full_date] = date.date_id"
   ]
  },
  {
   "cell_type": "code",
   "execution_count": 43,
   "metadata": {
    "id": "-L2HwVmoIqXJ"
   },
   "outputs": [],
   "source": [
    "transaction_merge_date = udf(lambda day, month, year, hour: \"{}/{}/{} {}\".format(day, datetime.strptime(month, '%B').month, year, hour))\n",
    "set_date_id = udf(lambda full_date: date_id_dict[full_date])\n",
    "\n",
    "transaction_fact = transaction_fact.withColumn('full_date', transaction_merge_date('day', 'month', 'year', 'hour')) \\\n",
    "  .withColumn('full_date', to_timestamp(\"full_date\", format=\"d/M/yyyy H\")) \\\n",
    "  .drop('year', 'month', 'day', 'weekday', 'hour') \\\n",
    "  .withColumn('full_date', set_date_id('full_date')) \\\n",
    "  .withColumnRenamed('full_date', 'date_id')\n",
    "\n",
    "transaction_fact = transaction_fact.select([transaction_fact.columns[-1]] + transaction_fact.columns[:-1])"
   ]
  },
  {
   "cell_type": "code",
   "execution_count": 44,
   "metadata": {
    "colab": {
     "base_uri": "https://localhost:8080/"
    },
    "id": "BqVaf-1rKSpP",
    "outputId": "3b2a3b48-640b-4c56-88bd-2a13a0e555d3"
   },
   "outputs": [
    {
     "name": "stdout",
     "output_type": "stream",
     "text": [
      "+-------+----------+------+----------------+------------------+--------------------+-----------------+-----------+-------+-------+--------+------------+------------------+----------+------------+------------+-----------+-----------+---------------+--------------+------+--------+--------+----------+--------+-------+----------+----------+------------+--------------------+\n",
      "|date_id|atm_status|atm_id|atm_manufacturer|      atm_location|      atm_streetname|atm_street_number|atm_zipcode|atm_lat|atm_lon|currency|card_type_id|transaction_amount|   service|message_code|message_text|weather_lat|weather_lon|weather_city_id|weather_loc_id|  temp|pressure|humidity|wind_speed|wind_deg|rain_3h|clouds_all|weather_id|weather_main| weather_description|\n",
      "+-------+----------+------+----------------+------------------+--------------------+-----------------+-----------+-------+-------+--------+------------+------------------+----------+------------+------------+-----------+-----------+---------------+--------------+------+--------+--------+----------+--------+-------+----------+----------+------------+--------------------+\n",
      "|      1|    Active|     1|             NCR|        NÃƒÂ¦stved|         Farimagsvej|                8|       4700| 55.233| 11.763|     DKK|          10|              5643|Withdrawal|        null|        null|      55.23|     11.761|        2616038|          null|281.15|    1014|      87|         7|     260|  0.215|        92|       500|        Rain|          light rain|\n",
      "|      1|  Inactive|     2|             NCR|          Vejgaard|          Hadsundvej|               20|       9000| 57.043|   9.95|     DKK|          10|              1764|Withdrawal|        null|        null|     57.048|      9.935|        2616235|            46|280.64|    1020|      93|         9|     250|   0.59|        92|       500|        Rain|          light rain|\n",
      "|      1|  Inactive|     2|             NCR|          Vejgaard|          Hadsundvej|               20|       9000| 57.043|   9.95|     DKK|           4|              1891|Withdrawal|        null|        null|     57.048|      9.935|        2616235|            46|280.64|    1020|      93|         9|     250|   0.59|        92|       500|        Rain|          light rain|\n",
      "|      1|  Inactive|     3|             NCR|             Ikast| RÃƒÂ¥dhusstrÃƒÂ¦det|               12|       7430| 56.139|  9.154|     DKK|           4|              4166|Withdrawal|        null|        null|     56.139|      9.158|        2619426|            84|281.15|    1011|     100|         6|     240|    0.0|        75|       300|     Drizzle|light intensity d...|\n",
      "|      1|    Active|     4|             NCR|        Svogerslev|        BrÃƒÂ¸nsager|                1|       4000| 55.634| 12.018|     DKK|          10|              5153|Withdrawal|        null|        null|     55.642|      12.08|        2614481|             7|280.61|    1014|      87|         7|     260|    0.0|        88|       701|        Mist|                mist|\n",
      "|      1|    Active|     5|             NCR|              Nibe|              Torvet|                1|       9240| 56.983|  9.639|     DKK|          10|              3269|Withdrawal|        null|        null|     56.981|      9.639|        2616483|            35|280.64|    1020|      93|         9|     250|   0.59|        92|       500|        Rain|          light rain|\n",
      "|      1|    Active|     6|             NCR|        Fredericia|    SjÃƒÂ¦llandsgade|               33|       7000| 55.564|  9.757|     DKK|          10|               887|Withdrawal|        null|        null|     55.566|      9.753|        2621951|           105|281.15|    1014|      93|         7|     230|   0.29|        92|       500|        Rain|          light rain|\n",
      "|      1|    Active|     7| Diebold Nixdorf|         Hjallerup|   Hjallerup Centret|               18|       9320| 57.168| 10.148|     DKK|           5|              4626|Withdrawal|        null|        null|     57.165|     10.146|        2620275|            16|280.64|    1020|      93|         9|     250|   0.59|        92|       500|        Rain|          light rain|\n",
      "|      1|    Active|     8|             NCR|       GlyngÃƒÂ¸re|         FÃƒÂ¦rgevej|                1|       7870| 56.762|  8.867|     DKK|          10|               470|Withdrawal|        null|        null|     56.793|      8.853|        2615964|          null|281.15|    1011|     100|         6|     240|    0.0|        75|       300|     Drizzle|light intensity d...|\n",
      "|      1|    Active|     9| Diebold Nixdorf|           Hadsund|           Storegade|               12|       9560| 56.716| 10.114|     DKK|           4|              8473|Withdrawal|        null|        null|     56.715|     10.117|        2620952|            94|280.64|    1020|      93|         9|     250|   0.59|        92|       500|        Rain|          light rain|\n",
      "|      1|    Active|    10|             NCR|    NÃƒÂ¸rresundby|              Torvet|                6|       9400| 57.059|  9.922|     DKK|          11|               953|Withdrawal|        null|        null|     57.048|      9.919|        2624886|          null|280.64|    1020|      93|         9|     250|   0.59|        92|       500|        Rain|          light rain|\n",
      "|      1|    Active|    11|             NCR|         Sauersvej|Fridtjof Nansens Vej|                2|       9210| 57.023|   9.94|     DKK|           8|              9346|Withdrawal|        null|        null|     57.048|      9.935|        2616235|            46|280.64|    1020|      93|         9|     250|   0.59|        92|       500|        Rain|          light rain|\n",
      "|      1|  Inactive|     2|             NCR|          Vejgaard|          Hadsundvej|               20|       9000| 57.043|   9.95|     DKK|           5|              3874|Withdrawal|        null|        null|     57.048|      9.935|        2616235|            46|280.64|    1020|      93|         9|     250|   0.59|        92|       500|        Rain|          light rain|\n",
      "|      1|  Inactive|    12|             NCR|ÃƒËœsterÃƒÂ¥  Duus|        ÃƒËœsterÃƒÂ¥|               12|       9000| 57.049|  9.922|     DKK|           5|              1329|Withdrawal|        null|        null|     57.048|      9.919|        2624886|          null|280.64|    1020|      93|         9|     250|   0.59|        92|       500|        Rain|          light rain|\n",
      "|      1|    Active|    13|             NCR|           SÃƒÂ¦by|          Vestergade|                3|       9300| 57.334| 10.515|     DKK|           5|              5024|Withdrawal|        null|        null|     57.441|     10.537|        2621927|            63|281.14|    1019|      94|        12|     251|  1.275|        92|       500|        Rain|          light rain|\n",
      "|      1|  Inactive|    14|             NCR|        HÃƒÂ¸rning|        NÃƒÂ¸rrealle|               12|       8362| 56.086| 10.037|     DKK|           7|              1133|Withdrawal|        null|        null|     56.157|     10.211|        2624652|          null|281.15|    1012|      87|         5|     250|    0.0|        92|       300|     Drizzle|light intensity d...|\n",
      "|      1|    Active|    15|             NCR|            Vestre|           Kastetvej|               36|       9000| 57.053|  9.905|     DKK|          10|               594|Withdrawal|        null|        null|     57.048|      9.919|        2624886|          null|280.64|    1020|      93|         9|     250|   0.59|        92|       500|        Rain|          light rain|\n",
      "|      1|  Inactive|    12|             NCR|ÃƒËœsterÃƒÂ¥  Duus|        ÃƒËœsterÃƒÂ¥|               12|       9000| 57.049|  9.922|     DKK|           5|              9570|Withdrawal|        null|        null|     57.048|      9.919|        2624886|          null|280.64|    1020|      93|         9|     250|   0.59|        92|       500|        Rain|          light rain|\n",
      "|      1|  Inactive|    16|             NCR|             Skive|            Adelgade|                8|       7800| 56.567|  9.027|     DKK|           8|              6068|Withdrawal|        null|        null|     56.567|      9.033|        2613731|            58|281.15|    1012|     100|         7|     240|    0.0|        75|       300|     Drizzle|light intensity d...|\n",
      "|      1|    Active|    17|             NCR|           Randers|        ÃƒËœstervold|               16|       8900| 56.462| 10.038|     DKK|           4|              1630|Withdrawal|        null|        null|     56.715|     10.117|        2620952|            94|280.64|    1020|      93|         9|     250|   0.59|        92|       500|        Rain|          light rain|\n",
      "+-------+----------+------+----------------+------------------+--------------------+-----------------+-----------+-------+-------+--------+------------+------------------+----------+------------+------------+-----------+-----------+---------------+--------------+------+--------+--------+----------+--------+-------+----------+----------+------------+--------------------+\n",
      "only showing top 20 rows\n",
      "\n"
     ]
    }
   ],
   "source": [
    "transaction_fact.show()"
   ]
  },
  {
   "cell_type": "code",
   "execution_count": 45,
   "metadata": {
    "id": "euEHPD9QXKhn"
   },
   "outputs": [],
   "source": [
    "# 'atm_location', 'atm_streetname', 'atm_manufacturer', 'atm_zipcode', 'atm_street_number', 'atm_lat', 'atm_lon', 'weather_lat', 'weather_lon', 'weather_city_id, 'pressure'\n",
    "transaction_fact = transaction_fact.drop('atm_location', 'atm_streetname', 'atm_manufacturer', 'atm_zipcode', 'atm_street_number', 'atm_lat', 'atm_lon', 'weather_lat', 'weather_lon', 'weather_city_id', 'temp', 'humidity', 'wind_speed', 'wind_deg', 'pressure')"
   ]
  },
  {
   "cell_type": "code",
   "execution_count": 46,
   "metadata": {
    "id": "xDm2pSU2XPMw"
   },
   "outputs": [],
   "source": [
    "increasing_id = Window.orderBy(monotonically_increasing_id())\n",
    "transaction_fact = transaction_fact.withColumn('trans_id', row_number().over(increasing_id))\n",
    "transaction_fact = transaction_fact.select([transaction_fact.columns[-1]] + transaction_fact.columns[:-1])\n",
    "transaction_fact = transaction_fact.withColumn('trans_id', col('trans_id').cast(LongType()))"
   ]
  },
  {
   "cell_type": "code",
   "execution_count": 47,
   "metadata": {
    "colab": {
     "base_uri": "https://localhost:8080/"
    },
    "id": "sWrAkZ77YDC4",
    "outputId": "9e8143f8-1683-4ebb-81ed-892bbf4198b1"
   },
   "outputs": [
    {
     "name": "stdout",
     "output_type": "stream",
     "text": [
      "+--------+-------+----------+------+--------+------------+------------------+----------+------------+------------+--------------+-------+----------+----------+------------+--------------------+\n",
      "|trans_id|date_id|atm_status|atm_id|currency|card_type_id|transaction_amount|   service|message_code|message_text|weather_loc_id|rain_3h|clouds_all|weather_id|weather_main| weather_description|\n",
      "+--------+-------+----------+------+--------+------------+------------------+----------+------------+------------+--------------+-------+----------+----------+------------+--------------------+\n",
      "|       1|      1|    Active|     1|     DKK|          10|              5643|Withdrawal|        null|        null|          null|  0.215|        92|       500|        Rain|          light rain|\n",
      "|       2|      1|  Inactive|     2|     DKK|          10|              1764|Withdrawal|        null|        null|            46|   0.59|        92|       500|        Rain|          light rain|\n",
      "|       3|      1|  Inactive|     2|     DKK|           4|              1891|Withdrawal|        null|        null|            46|   0.59|        92|       500|        Rain|          light rain|\n",
      "|       4|      1|  Inactive|     3|     DKK|           4|              4166|Withdrawal|        null|        null|            84|    0.0|        75|       300|     Drizzle|light intensity d...|\n",
      "|       5|      1|    Active|     4|     DKK|          10|              5153|Withdrawal|        null|        null|             7|    0.0|        88|       701|        Mist|                mist|\n",
      "|       6|      1|    Active|     5|     DKK|          10|              3269|Withdrawal|        null|        null|            35|   0.59|        92|       500|        Rain|          light rain|\n",
      "|       7|      1|    Active|     6|     DKK|          10|               887|Withdrawal|        null|        null|           105|   0.29|        92|       500|        Rain|          light rain|\n",
      "|       8|      1|    Active|     7|     DKK|           5|              4626|Withdrawal|        null|        null|            16|   0.59|        92|       500|        Rain|          light rain|\n",
      "|       9|      1|    Active|     8|     DKK|          10|               470|Withdrawal|        null|        null|          null|    0.0|        75|       300|     Drizzle|light intensity d...|\n",
      "|      10|      1|    Active|     9|     DKK|           4|              8473|Withdrawal|        null|        null|            94|   0.59|        92|       500|        Rain|          light rain|\n",
      "|      11|      1|    Active|    10|     DKK|          11|               953|Withdrawal|        null|        null|          null|   0.59|        92|       500|        Rain|          light rain|\n",
      "|      12|      1|    Active|    11|     DKK|           8|              9346|Withdrawal|        null|        null|            46|   0.59|        92|       500|        Rain|          light rain|\n",
      "|      13|      1|  Inactive|     2|     DKK|           5|              3874|Withdrawal|        null|        null|            46|   0.59|        92|       500|        Rain|          light rain|\n",
      "|      14|      1|  Inactive|    12|     DKK|           5|              1329|Withdrawal|        null|        null|          null|   0.59|        92|       500|        Rain|          light rain|\n",
      "|      15|      1|    Active|    13|     DKK|           5|              5024|Withdrawal|        null|        null|            63|  1.275|        92|       500|        Rain|          light rain|\n",
      "|      16|      1|  Inactive|    14|     DKK|           7|              1133|Withdrawal|        null|        null|          null|    0.0|        92|       300|     Drizzle|light intensity d...|\n",
      "|      17|      1|    Active|    15|     DKK|          10|               594|Withdrawal|        null|        null|          null|   0.59|        92|       500|        Rain|          light rain|\n",
      "|      18|      1|  Inactive|    12|     DKK|           5|              9570|Withdrawal|        null|        null|          null|   0.59|        92|       500|        Rain|          light rain|\n",
      "|      19|      1|  Inactive|    16|     DKK|           8|              6068|Withdrawal|        null|        null|            58|    0.0|        75|       300|     Drizzle|light intensity d...|\n",
      "|      20|      1|    Active|    17|     DKK|           4|              1630|Withdrawal|        null|        null|            94|   0.59|        92|       500|        Rain|          light rain|\n",
      "+--------+-------+----------+------+--------+------------+------------------+----------+------------+------------+--------------+-------+----------+----------+------------+--------------------+\n",
      "only showing top 20 rows\n",
      "\n"
     ]
    }
   ],
   "source": [
    "transaction_fact.show()"
   ]
  },
  {
   "cell_type": "code",
   "execution_count": 48,
   "metadata": {
    "colab": {
     "base_uri": "https://localhost:8080/"
    },
    "id": "IL8_N3ymnw5c",
    "outputId": "eecf49b7-291f-4dd1-e90c-54c3168ea499"
   },
   "outputs": [
    {
     "name": "stdout",
     "output_type": "stream",
     "text": [
      "root\n",
      " |-- trans_id: long (nullable = true)\n",
      " |-- date_id: string (nullable = true)\n",
      " |-- atm_status: string (nullable = true)\n",
      " |-- atm_id: integer (nullable = true)\n",
      " |-- currency: string (nullable = true)\n",
      " |-- card_type_id: string (nullable = true)\n",
      " |-- transaction_amount: integer (nullable = true)\n",
      " |-- service: string (nullable = true)\n",
      " |-- message_code: string (nullable = true)\n",
      " |-- message_text: string (nullable = true)\n",
      " |-- weather_loc_id: string (nullable = true)\n",
      " |-- rain_3h: float (nullable = true)\n",
      " |-- clouds_all: integer (nullable = true)\n",
      " |-- weather_id: integer (nullable = true)\n",
      " |-- weather_main: string (nullable = true)\n",
      " |-- weather_description: string (nullable = true)\n",
      "\n"
     ]
    }
   ],
   "source": [
    "transaction_fact.printSchema()"
   ]
  },
  {
   "cell_type": "markdown",
   "metadata": {
    "id": "VUsipcjFdZDW"
   },
   "source": [
    "# Export dimension tables"
   ]
  },
  {
   "cell_type": "code",
   "execution_count": 49,
   "metadata": {
    "colab": {
     "base_uri": "https://localhost:8080/",
     "height": 312
    },
    "id": "rppptdwfddvz",
    "outputId": "5cf9911a-44e9-4653-b0bd-04e3b24957c7"
   },
   "outputs": [],
   "source": [
    "dim_date.write.format('csv').save('s3a://atmtransdata/atmtrans_v2/dim_date.csv', mode='overwrite')"
   ]
  },
  {
   "cell_type": "code",
   "execution_count": 50,
   "metadata": {
    "id": "7pSr0dnoeNdR"
   },
   "outputs": [],
   "source": [
    "dim_location.write.format('csv').save('s3a://atmtransdata/atmtrans_v2/dim_location.csv', mode='overwrite')"
   ]
  },
  {
   "cell_type": "code",
   "execution_count": 51,
   "metadata": {
    "id": "4kMOP1E5eQn6"
   },
   "outputs": [],
   "source": [
    "dim_card_type.write.format('csv').save('s3a://atmtransdata/atmtrans_v2/dim_card_type.csv', mode='overwrite')"
   ]
  },
  {
   "cell_type": "code",
   "execution_count": 52,
   "metadata": {
    "id": "itkeDoKLeWMX"
   },
   "outputs": [],
   "source": [
    "dim_atm.write.format('csv').save('s3a://atmtransdata/atmtrans_v2/dim_atm.csv', mode='overwrite')"
   ]
  },
  {
   "cell_type": "code",
   "execution_count": 53,
   "metadata": {
    "id": "OxgNXGuHeaBz"
   },
   "outputs": [],
   "source": [
    "transaction_fact.write.format('csv').save('s3a://atmtransdata/atmtrans_v2/transaction_fact.csv', mode='overwrite')"
   ]
  },
  {
   "cell_type": "markdown",
   "metadata": {
    "id": "Gi6WRLtlu3MB"
   },
   "source": [
    "# Conclusion of the dimensions"
   ]
  },
  {
   "cell_type": "code",
   "execution_count": 54,
   "metadata": {
    "id": "shaQrDVuu97j"
   },
   "outputs": [
    {
     "data": {
      "text/plain": [
       "['date_id', 'year', 'month', 'day', 'weekday', 'hour', 'full_date']"
      ]
     },
     "execution_count": 54,
     "metadata": {},
     "output_type": "execute_result"
    }
   ],
   "source": [
    "dim_date.columns"
   ]
  },
  {
   "cell_type": "code",
   "execution_count": 55,
   "metadata": {
    "id": "jkXSCSx2vAHz"
   },
   "outputs": [
    {
     "data": {
      "text/plain": [
       "['location_id',\n",
       " 'location',\n",
       " 'streetname',\n",
       " 'street_number',\n",
       " 'zipcode',\n",
       " 'lat',\n",
       " 'lon']"
      ]
     },
     "execution_count": 55,
     "metadata": {},
     "output_type": "execute_result"
    }
   ],
   "source": [
    "dim_location.columns"
   ]
  },
  {
   "cell_type": "code",
   "execution_count": 56,
   "metadata": {
    "id": "pKfXUMZpvBb2"
   },
   "outputs": [
    {
     "data": {
      "text/plain": [
       "['card_type_id', 'card_type']"
      ]
     },
     "execution_count": 56,
     "metadata": {},
     "output_type": "execute_result"
    }
   ],
   "source": [
    "dim_card_type.columns"
   ]
  },
  {
   "cell_type": "code",
   "execution_count": 57,
   "metadata": {
    "id": "HC5fA09wvDLW"
   },
   "outputs": [
    {
     "data": {
      "text/plain": [
       "['atm_id', 'atm_number', 'atm_manufacturer', 'location_id']"
      ]
     },
     "execution_count": 57,
     "metadata": {},
     "output_type": "execute_result"
    }
   ],
   "source": [
    "dim_atm.columns"
   ]
  },
  {
   "cell_type": "code",
   "execution_count": 58,
   "metadata": {
    "id": "KWm3lftgvEju"
   },
   "outputs": [
    {
     "data": {
      "text/plain": [
       "['trans_id',\n",
       " 'date_id',\n",
       " 'atm_status',\n",
       " 'atm_id',\n",
       " 'currency',\n",
       " 'card_type_id',\n",
       " 'transaction_amount',\n",
       " 'service',\n",
       " 'message_code',\n",
       " 'message_text',\n",
       " 'weather_loc_id',\n",
       " 'rain_3h',\n",
       " 'clouds_all',\n",
       " 'weather_id',\n",
       " 'weather_main',\n",
       " 'weather_description']"
      ]
     },
     "execution_count": 58,
     "metadata": {},
     "output_type": "execute_result"
    }
   ],
   "source": [
    "transaction_fact.columns"
   ]
  }
 ],
 "metadata": {
  "colab": {
   "collapsed_sections": [],
   "name": "Copy of atm_trans.ipynb",
   "provenance": []
  },
  "kernelspec": {
   "display_name": "Python 2",
   "language": "python",
   "name": "python2"
  },
  "language_info": {
   "codemirror_mode": {
    "name": "ipython",
    "version": 2
   },
   "file_extension": ".py",
   "mimetype": "text/x-python",
   "name": "python",
   "nbconvert_exporter": "python",
   "pygments_lexer": "ipython2",
   "version": "2.7.16"
  }
 },
 "nbformat": 4,
 "nbformat_minor": 1
}
